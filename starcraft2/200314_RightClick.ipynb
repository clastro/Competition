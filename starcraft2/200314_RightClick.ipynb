{
 "cells": [
  {
   "cell_type": "code",
   "execution_count": 1,
   "metadata": {},
   "outputs": [],
   "source": [
    "import pandas as pd\n",
    "import numpy as np"
   ]
  },
  {
   "cell_type": "code",
   "execution_count": 2,
   "metadata": {},
   "outputs": [],
   "source": [
    "#train = pd.read_csv(\"train.csv\",encoding=\"utf-8\")\n",
    "test = pd.read_csv(\"test.csv\",encoding=\"utf-8\")"
   ]
  },
  {
   "cell_type": "code",
   "execution_count": 3,
   "metadata": {},
   "outputs": [],
   "source": [
    "#train_right = train[train[\"event\"]==\"Right Click\"]\n",
    "test_right = test[test[\"event\"] == \"Right Click\"]"
   ]
  },
  {
   "cell_type": "code",
   "execution_count": 4,
   "metadata": {},
   "outputs": [
    {
     "data": {
      "text/html": [
       "<div>\n",
       "<style scoped>\n",
       "    .dataframe tbody tr th:only-of-type {\n",
       "        vertical-align: middle;\n",
       "    }\n",
       "\n",
       "    .dataframe tbody tr th {\n",
       "        vertical-align: top;\n",
       "    }\n",
       "\n",
       "    .dataframe thead th {\n",
       "        text-align: right;\n",
       "    }\n",
       "</style>\n",
       "<table border=\"1\" class=\"dataframe\">\n",
       "  <thead>\n",
       "    <tr style=\"text-align: right;\">\n",
       "      <th></th>\n",
       "      <th>game_id</th>\n",
       "      <th>winner</th>\n",
       "      <th>time</th>\n",
       "      <th>player</th>\n",
       "      <th>species</th>\n",
       "      <th>event</th>\n",
       "      <th>event_contents</th>\n",
       "    </tr>\n",
       "  </thead>\n",
       "  <tbody>\n",
       "    <tr>\n",
       "      <th>17</th>\n",
       "      <td>0</td>\n",
       "      <td>1</td>\n",
       "      <td>0.20</td>\n",
       "      <td>0</td>\n",
       "      <td>T</td>\n",
       "      <td>Right Click</td>\n",
       "      <td>Location: (136.3759765625, 41.11962890625, 49016)</td>\n",
       "    </tr>\n",
       "    <tr>\n",
       "      <th>18</th>\n",
       "      <td>0</td>\n",
       "      <td>1</td>\n",
       "      <td>0.23</td>\n",
       "      <td>0</td>\n",
       "      <td>T</td>\n",
       "      <td>Right Click</td>\n",
       "      <td>Location: (136.033935546875, 41.735107421875, ...</td>\n",
       "    </tr>\n",
       "    <tr>\n",
       "      <th>111</th>\n",
       "      <td>0</td>\n",
       "      <td>1</td>\n",
       "      <td>1.17</td>\n",
       "      <td>0</td>\n",
       "      <td>T</td>\n",
       "      <td>Right Click</td>\n",
       "      <td>Location: (32.222900390625, 153.720703125, 49120)</td>\n",
       "    </tr>\n",
       "    <tr>\n",
       "      <th>112</th>\n",
       "      <td>0</td>\n",
       "      <td>1</td>\n",
       "      <td>1.18</td>\n",
       "      <td>0</td>\n",
       "      <td>T</td>\n",
       "      <td>Right Click</td>\n",
       "      <td>Location: (29.195068359375, 143.441650390625, ...</td>\n",
       "    </tr>\n",
       "    <tr>\n",
       "      <th>113</th>\n",
       "      <td>0</td>\n",
       "      <td>1</td>\n",
       "      <td>1.18</td>\n",
       "      <td>0</td>\n",
       "      <td>T</td>\n",
       "      <td>Right Click</td>\n",
       "      <td>Location: (29.195068359375, 129.53466796875, 4...</td>\n",
       "    </tr>\n",
       "    <tr>\n",
       "      <th>...</th>\n",
       "      <td>...</td>\n",
       "      <td>...</td>\n",
       "      <td>...</td>\n",
       "      <td>...</td>\n",
       "      <td>...</td>\n",
       "      <td>...</td>\n",
       "      <td>...</td>\n",
       "    </tr>\n",
       "    <tr>\n",
       "      <th>67091737</th>\n",
       "      <td>38871</td>\n",
       "      <td>0</td>\n",
       "      <td>8.48</td>\n",
       "      <td>0</td>\n",
       "      <td>Z</td>\n",
       "      <td>Right Click</td>\n",
       "      <td>Target: DestructibleSignsFunny [004C0001]; Loc...</td>\n",
       "    </tr>\n",
       "    <tr>\n",
       "      <th>67091741</th>\n",
       "      <td>38871</td>\n",
       "      <td>0</td>\n",
       "      <td>8.48</td>\n",
       "      <td>0</td>\n",
       "      <td>Z</td>\n",
       "      <td>Right Click</td>\n",
       "      <td>Target: DestructibleSignsFunny [004C0001]; Loc...</td>\n",
       "    </tr>\n",
       "    <tr>\n",
       "      <th>67091744</th>\n",
       "      <td>38871</td>\n",
       "      <td>0</td>\n",
       "      <td>8.48</td>\n",
       "      <td>0</td>\n",
       "      <td>Z</td>\n",
       "      <td>Right Click</td>\n",
       "      <td>Target: DestructibleSignsFunny [004C0001]; Loc...</td>\n",
       "    </tr>\n",
       "    <tr>\n",
       "      <th>67091765</th>\n",
       "      <td>38871</td>\n",
       "      <td>0</td>\n",
       "      <td>8.50</td>\n",
       "      <td>0</td>\n",
       "      <td>Z</td>\n",
       "      <td>Right Click</td>\n",
       "      <td>Location: (136.720458984375, 69.50830078125, 4...</td>\n",
       "    </tr>\n",
       "    <tr>\n",
       "      <th>67091766</th>\n",
       "      <td>38871</td>\n",
       "      <td>0</td>\n",
       "      <td>8.51</td>\n",
       "      <td>0</td>\n",
       "      <td>Z</td>\n",
       "      <td>Right Click</td>\n",
       "      <td>Location: (138.084228515625, 67.595703125, 40907)</td>\n",
       "    </tr>\n",
       "  </tbody>\n",
       "</table>\n",
       "<p>11565877 rows × 7 columns</p>\n",
       "</div>"
      ],
      "text/plain": [
       "          game_id  winner  time  player species        event  \\\n",
       "17              0       1  0.20       0       T  Right Click   \n",
       "18              0       1  0.23       0       T  Right Click   \n",
       "111             0       1  1.17       0       T  Right Click   \n",
       "112             0       1  1.18       0       T  Right Click   \n",
       "113             0       1  1.18       0       T  Right Click   \n",
       "...           ...     ...   ...     ...     ...          ...   \n",
       "67091737    38871       0  8.48       0       Z  Right Click   \n",
       "67091741    38871       0  8.48       0       Z  Right Click   \n",
       "67091744    38871       0  8.48       0       Z  Right Click   \n",
       "67091765    38871       0  8.50       0       Z  Right Click   \n",
       "67091766    38871       0  8.51       0       Z  Right Click   \n",
       "\n",
       "                                             event_contents  \n",
       "17        Location: (136.3759765625, 41.11962890625, 49016)  \n",
       "18        Location: (136.033935546875, 41.735107421875, ...  \n",
       "111       Location: (32.222900390625, 153.720703125, 49120)  \n",
       "112       Location: (29.195068359375, 143.441650390625, ...  \n",
       "113       Location: (29.195068359375, 129.53466796875, 4...  \n",
       "...                                                     ...  \n",
       "67091737  Target: DestructibleSignsFunny [004C0001]; Loc...  \n",
       "67091741  Target: DestructibleSignsFunny [004C0001]; Loc...  \n",
       "67091744  Target: DestructibleSignsFunny [004C0001]; Loc...  \n",
       "67091765  Location: (136.720458984375, 69.50830078125, 4...  \n",
       "67091766  Location: (138.084228515625, 67.595703125, 40907)  \n",
       "\n",
       "[11565877 rows x 7 columns]"
      ]
     },
     "execution_count": 4,
     "metadata": {},
     "output_type": "execute_result"
    }
   ],
   "source": [
    "train_right"
   ]
  },
  {
   "cell_type": "code",
   "execution_count": 4,
   "metadata": {},
   "outputs": [
    {
     "data": {
      "text/html": [
       "<div>\n",
       "<style scoped>\n",
       "    .dataframe tbody tr th:only-of-type {\n",
       "        vertical-align: middle;\n",
       "    }\n",
       "\n",
       "    .dataframe tbody tr th {\n",
       "        vertical-align: top;\n",
       "    }\n",
       "\n",
       "    .dataframe thead th {\n",
       "        text-align: right;\n",
       "    }\n",
       "</style>\n",
       "<table border=\"1\" class=\"dataframe\">\n",
       "  <thead>\n",
       "    <tr style=\"text-align: right;\">\n",
       "      <th></th>\n",
       "      <th>game_id</th>\n",
       "      <th>time</th>\n",
       "      <th>player</th>\n",
       "      <th>species</th>\n",
       "      <th>event</th>\n",
       "      <th>event_contents</th>\n",
       "    </tr>\n",
       "  </thead>\n",
       "  <tbody>\n",
       "    <tr>\n",
       "      <th>12</th>\n",
       "      <td>38872</td>\n",
       "      <td>0.03</td>\n",
       "      <td>0</td>\n",
       "      <td>P</td>\n",
       "      <td>Right Click</td>\n",
       "      <td>Target: None [01FC0001]; Location: (18.0, 87.5...</td>\n",
       "    </tr>\n",
       "    <tr>\n",
       "      <th>15</th>\n",
       "      <td>38872</td>\n",
       "      <td>0.04</td>\n",
       "      <td>0</td>\n",
       "      <td>P</td>\n",
       "      <td>Right Click</td>\n",
       "      <td>Target: None [01FC0001]; Location: (18.0, 87.5...</td>\n",
       "    </tr>\n",
       "    <tr>\n",
       "      <th>63</th>\n",
       "      <td>38872</td>\n",
       "      <td>0.20</td>\n",
       "      <td>0</td>\n",
       "      <td>P</td>\n",
       "      <td>Right Click</td>\n",
       "      <td>Location: (31.235595703125, 93.552734375, 49122)</td>\n",
       "    </tr>\n",
       "    <tr>\n",
       "      <th>64</th>\n",
       "      <td>38872</td>\n",
       "      <td>0.21</td>\n",
       "      <td>0</td>\n",
       "      <td>P</td>\n",
       "      <td>Right Click</td>\n",
       "      <td>Location: (31.5546875, 93.2060546875, 49122)</td>\n",
       "    </tr>\n",
       "    <tr>\n",
       "      <th>68</th>\n",
       "      <td>38872</td>\n",
       "      <td>0.23</td>\n",
       "      <td>1</td>\n",
       "      <td>P</td>\n",
       "      <td>Right Click</td>\n",
       "      <td>Location: (122.58837890625, 148.31689453125, 4...</td>\n",
       "    </tr>\n",
       "    <tr>\n",
       "      <th>...</th>\n",
       "      <td>...</td>\n",
       "      <td>...</td>\n",
       "      <td>...</td>\n",
       "      <td>...</td>\n",
       "      <td>...</td>\n",
       "      <td>...</td>\n",
       "    </tr>\n",
       "    <tr>\n",
       "      <th>28714843</th>\n",
       "      <td>55658</td>\n",
       "      <td>4.53</td>\n",
       "      <td>1</td>\n",
       "      <td>T</td>\n",
       "      <td>Right Click</td>\n",
       "      <td>Location: (120.1533203125, 53.713623046875, 36...</td>\n",
       "    </tr>\n",
       "    <tr>\n",
       "      <th>28714844</th>\n",
       "      <td>55658</td>\n",
       "      <td>4.54</td>\n",
       "      <td>1</td>\n",
       "      <td>T</td>\n",
       "      <td>Right Click</td>\n",
       "      <td>Location: (120.584228515625, 56.930419921875, ...</td>\n",
       "    </tr>\n",
       "    <tr>\n",
       "      <th>28714846</th>\n",
       "      <td>55658</td>\n",
       "      <td>4.54</td>\n",
       "      <td>1</td>\n",
       "      <td>T</td>\n",
       "      <td>Right Click</td>\n",
       "      <td>Location: (122.146728515625, 55.52099609375, 3...</td>\n",
       "    </tr>\n",
       "    <tr>\n",
       "      <th>28714847</th>\n",
       "      <td>55658</td>\n",
       "      <td>4.54</td>\n",
       "      <td>1</td>\n",
       "      <td>T</td>\n",
       "      <td>Right Click</td>\n",
       "      <td>Location: (123.6767578125, 54.140625, 33215)</td>\n",
       "    </tr>\n",
       "    <tr>\n",
       "      <th>28714848</th>\n",
       "      <td>55658</td>\n",
       "      <td>4.54</td>\n",
       "      <td>1</td>\n",
       "      <td>T</td>\n",
       "      <td>Right Click</td>\n",
       "      <td>Location: (124.775634765625, 54.123779296875, ...</td>\n",
       "    </tr>\n",
       "  </tbody>\n",
       "</table>\n",
       "<p>4929970 rows × 6 columns</p>\n",
       "</div>"
      ],
      "text/plain": [
       "          game_id  time  player species        event  \\\n",
       "12          38872  0.03       0       P  Right Click   \n",
       "15          38872  0.04       0       P  Right Click   \n",
       "63          38872  0.20       0       P  Right Click   \n",
       "64          38872  0.21       0       P  Right Click   \n",
       "68          38872  0.23       1       P  Right Click   \n",
       "...           ...   ...     ...     ...          ...   \n",
       "28714843    55658  4.53       1       T  Right Click   \n",
       "28714844    55658  4.54       1       T  Right Click   \n",
       "28714846    55658  4.54       1       T  Right Click   \n",
       "28714847    55658  4.54       1       T  Right Click   \n",
       "28714848    55658  4.54       1       T  Right Click   \n",
       "\n",
       "                                             event_contents  \n",
       "12        Target: None [01FC0001]; Location: (18.0, 87.5...  \n",
       "15        Target: None [01FC0001]; Location: (18.0, 87.5...  \n",
       "63         Location: (31.235595703125, 93.552734375, 49122)  \n",
       "64             Location: (31.5546875, 93.2060546875, 49122)  \n",
       "68        Location: (122.58837890625, 148.31689453125, 4...  \n",
       "...                                                     ...  \n",
       "28714843  Location: (120.1533203125, 53.713623046875, 36...  \n",
       "28714844  Location: (120.584228515625, 56.930419921875, ...  \n",
       "28714846  Location: (122.146728515625, 55.52099609375, 3...  \n",
       "28714847       Location: (123.6767578125, 54.140625, 33215)  \n",
       "28714848  Location: (124.775634765625, 54.123779296875, ...  \n",
       "\n",
       "[4929970 rows x 6 columns]"
      ]
     },
     "execution_count": 4,
     "metadata": {},
     "output_type": "execute_result"
    }
   ],
   "source": [
    "test_right"
   ]
  },
  {
   "cell_type": "code",
   "execution_count": 5,
   "metadata": {},
   "outputs": [],
   "source": [
    "train_right = train_right.loc[train_right.event_contents.str.startswith('Target:', na=False)] #target만"
   ]
  },
  {
   "cell_type": "code",
   "execution_count": 5,
   "metadata": {},
   "outputs": [],
   "source": [
    "test_right = test_right.loc[test_right.event_contents.str.startswith('Target:', na=False)] #target만"
   ]
  },
  {
   "cell_type": "code",
   "execution_count": 6,
   "metadata": {},
   "outputs": [
    {
     "data": {
      "text/html": [
       "<div>\n",
       "<style scoped>\n",
       "    .dataframe tbody tr th:only-of-type {\n",
       "        vertical-align: middle;\n",
       "    }\n",
       "\n",
       "    .dataframe tbody tr th {\n",
       "        vertical-align: top;\n",
       "    }\n",
       "\n",
       "    .dataframe thead th {\n",
       "        text-align: right;\n",
       "    }\n",
       "</style>\n",
       "<table border=\"1\" class=\"dataframe\">\n",
       "  <thead>\n",
       "    <tr style=\"text-align: right;\">\n",
       "      <th></th>\n",
       "      <th>game_id</th>\n",
       "      <th>winner</th>\n",
       "      <th>time</th>\n",
       "      <th>player</th>\n",
       "      <th>species</th>\n",
       "      <th>event</th>\n",
       "      <th>event_contents</th>\n",
       "    </tr>\n",
       "  </thead>\n",
       "  <tbody>\n",
       "    <tr>\n",
       "      <th>121</th>\n",
       "      <td>0</td>\n",
       "      <td>1</td>\n",
       "      <td>1.21</td>\n",
       "      <td>0</td>\n",
       "      <td>T</td>\n",
       "      <td>Right Click</td>\n",
       "      <td>Target: None [00100001]; Location: (150.0, 22....</td>\n",
       "    </tr>\n",
       "    <tr>\n",
       "      <th>142</th>\n",
       "      <td>0</td>\n",
       "      <td>1</td>\n",
       "      <td>1.30</td>\n",
       "      <td>1</td>\n",
       "      <td>T</td>\n",
       "      <td>Right Click</td>\n",
       "      <td>Target: Refinery [03800001]; Location: (27.5, ...</td>\n",
       "    </tr>\n",
       "    <tr>\n",
       "      <th>179</th>\n",
       "      <td>0</td>\n",
       "      <td>1</td>\n",
       "      <td>2.08</td>\n",
       "      <td>0</td>\n",
       "      <td>T</td>\n",
       "      <td>Right Click</td>\n",
       "      <td>Target: None [01200001]; Location: (140.0, 47....</td>\n",
       "    </tr>\n",
       "    <tr>\n",
       "      <th>234</th>\n",
       "      <td>0</td>\n",
       "      <td>1</td>\n",
       "      <td>2.35</td>\n",
       "      <td>0</td>\n",
       "      <td>T</td>\n",
       "      <td>Right Click</td>\n",
       "      <td>Target: None [01000001]; Location: (154.0, 55....</td>\n",
       "    </tr>\n",
       "    <tr>\n",
       "      <th>331</th>\n",
       "      <td>0</td>\n",
       "      <td>1</td>\n",
       "      <td>3.01</td>\n",
       "      <td>1</td>\n",
       "      <td>T</td>\n",
       "      <td>Right Click</td>\n",
       "      <td>Target: None [00A80001]; Location: (18.0, 147....</td>\n",
       "    </tr>\n",
       "    <tr>\n",
       "      <th>...</th>\n",
       "      <td>...</td>\n",
       "      <td>...</td>\n",
       "      <td>...</td>\n",
       "      <td>...</td>\n",
       "      <td>...</td>\n",
       "      <td>...</td>\n",
       "      <td>...</td>\n",
       "    </tr>\n",
       "    <tr>\n",
       "      <th>67091733</th>\n",
       "      <td>38871</td>\n",
       "      <td>0</td>\n",
       "      <td>8.47</td>\n",
       "      <td>0</td>\n",
       "      <td>Z</td>\n",
       "      <td>Right Click</td>\n",
       "      <td>Target: DestructibleSignsFunny [004C0001]; Loc...</td>\n",
       "    </tr>\n",
       "    <tr>\n",
       "      <th>67091734</th>\n",
       "      <td>38871</td>\n",
       "      <td>0</td>\n",
       "      <td>8.47</td>\n",
       "      <td>0</td>\n",
       "      <td>Z</td>\n",
       "      <td>Right Click</td>\n",
       "      <td>Target: DestructibleSignsFunny [004C0001]; Loc...</td>\n",
       "    </tr>\n",
       "    <tr>\n",
       "      <th>67091737</th>\n",
       "      <td>38871</td>\n",
       "      <td>0</td>\n",
       "      <td>8.48</td>\n",
       "      <td>0</td>\n",
       "      <td>Z</td>\n",
       "      <td>Right Click</td>\n",
       "      <td>Target: DestructibleSignsFunny [004C0001]; Loc...</td>\n",
       "    </tr>\n",
       "    <tr>\n",
       "      <th>67091741</th>\n",
       "      <td>38871</td>\n",
       "      <td>0</td>\n",
       "      <td>8.48</td>\n",
       "      <td>0</td>\n",
       "      <td>Z</td>\n",
       "      <td>Right Click</td>\n",
       "      <td>Target: DestructibleSignsFunny [004C0001]; Loc...</td>\n",
       "    </tr>\n",
       "    <tr>\n",
       "      <th>67091744</th>\n",
       "      <td>38871</td>\n",
       "      <td>0</td>\n",
       "      <td>8.48</td>\n",
       "      <td>0</td>\n",
       "      <td>Z</td>\n",
       "      <td>Right Click</td>\n",
       "      <td>Target: DestructibleSignsFunny [004C0001]; Loc...</td>\n",
       "    </tr>\n",
       "  </tbody>\n",
       "</table>\n",
       "<p>2676714 rows × 7 columns</p>\n",
       "</div>"
      ],
      "text/plain": [
       "          game_id  winner  time  player species        event  \\\n",
       "121             0       1  1.21       0       T  Right Click   \n",
       "142             0       1  1.30       1       T  Right Click   \n",
       "179             0       1  2.08       0       T  Right Click   \n",
       "234             0       1  2.35       0       T  Right Click   \n",
       "331             0       1  3.01       1       T  Right Click   \n",
       "...           ...     ...   ...     ...     ...          ...   \n",
       "67091733    38871       0  8.47       0       Z  Right Click   \n",
       "67091734    38871       0  8.47       0       Z  Right Click   \n",
       "67091737    38871       0  8.48       0       Z  Right Click   \n",
       "67091741    38871       0  8.48       0       Z  Right Click   \n",
       "67091744    38871       0  8.48       0       Z  Right Click   \n",
       "\n",
       "                                             event_contents  \n",
       "121       Target: None [00100001]; Location: (150.0, 22....  \n",
       "142       Target: Refinery [03800001]; Location: (27.5, ...  \n",
       "179       Target: None [01200001]; Location: (140.0, 47....  \n",
       "234       Target: None [01000001]; Location: (154.0, 55....  \n",
       "331       Target: None [00A80001]; Location: (18.0, 147....  \n",
       "...                                                     ...  \n",
       "67091733  Target: DestructibleSignsFunny [004C0001]; Loc...  \n",
       "67091734  Target: DestructibleSignsFunny [004C0001]; Loc...  \n",
       "67091737  Target: DestructibleSignsFunny [004C0001]; Loc...  \n",
       "67091741  Target: DestructibleSignsFunny [004C0001]; Loc...  \n",
       "67091744  Target: DestructibleSignsFunny [004C0001]; Loc...  \n",
       "\n",
       "[2676714 rows x 7 columns]"
      ]
     },
     "execution_count": 6,
     "metadata": {},
     "output_type": "execute_result"
    }
   ],
   "source": [
    "train_right"
   ]
  },
  {
   "cell_type": "code",
   "execution_count": 6,
   "metadata": {},
   "outputs": [
    {
     "data": {
      "text/html": [
       "<div>\n",
       "<style scoped>\n",
       "    .dataframe tbody tr th:only-of-type {\n",
       "        vertical-align: middle;\n",
       "    }\n",
       "\n",
       "    .dataframe tbody tr th {\n",
       "        vertical-align: top;\n",
       "    }\n",
       "\n",
       "    .dataframe thead th {\n",
       "        text-align: right;\n",
       "    }\n",
       "</style>\n",
       "<table border=\"1\" class=\"dataframe\">\n",
       "  <thead>\n",
       "    <tr style=\"text-align: right;\">\n",
       "      <th></th>\n",
       "      <th>game_id</th>\n",
       "      <th>time</th>\n",
       "      <th>player</th>\n",
       "      <th>species</th>\n",
       "      <th>event</th>\n",
       "      <th>event_contents</th>\n",
       "    </tr>\n",
       "  </thead>\n",
       "  <tbody>\n",
       "    <tr>\n",
       "      <th>12</th>\n",
       "      <td>38872</td>\n",
       "      <td>0.03</td>\n",
       "      <td>0</td>\n",
       "      <td>P</td>\n",
       "      <td>Right Click</td>\n",
       "      <td>Target: None [01FC0001]; Location: (18.0, 87.5...</td>\n",
       "    </tr>\n",
       "    <tr>\n",
       "      <th>15</th>\n",
       "      <td>38872</td>\n",
       "      <td>0.04</td>\n",
       "      <td>0</td>\n",
       "      <td>P</td>\n",
       "      <td>Right Click</td>\n",
       "      <td>Target: None [01FC0001]; Location: (18.0, 87.5...</td>\n",
       "    </tr>\n",
       "    <tr>\n",
       "      <th>113</th>\n",
       "      <td>38872</td>\n",
       "      <td>0.56</td>\n",
       "      <td>1</td>\n",
       "      <td>P</td>\n",
       "      <td>Right Click</td>\n",
       "      <td>Target: None [015C0001]; Location: (127.0, 155...</td>\n",
       "    </tr>\n",
       "    <tr>\n",
       "      <th>121</th>\n",
       "      <td>38872</td>\n",
       "      <td>1.02</td>\n",
       "      <td>0</td>\n",
       "      <td>P</td>\n",
       "      <td>Right Click</td>\n",
       "      <td>Target: None [01FC0001]; Location: (18.0, 87.5...</td>\n",
       "    </tr>\n",
       "    <tr>\n",
       "      <th>136</th>\n",
       "      <td>38872</td>\n",
       "      <td>1.12</td>\n",
       "      <td>0</td>\n",
       "      <td>P</td>\n",
       "      <td>Right Click</td>\n",
       "      <td>Target: None [01FC0001]; Location: (18.0, 87.5...</td>\n",
       "    </tr>\n",
       "    <tr>\n",
       "      <th>...</th>\n",
       "      <td>...</td>\n",
       "      <td>...</td>\n",
       "      <td>...</td>\n",
       "      <td>...</td>\n",
       "      <td>...</td>\n",
       "      <td>...</td>\n",
       "    </tr>\n",
       "    <tr>\n",
       "      <th>28714496</th>\n",
       "      <td>55658</td>\n",
       "      <td>2.59</td>\n",
       "      <td>1</td>\n",
       "      <td>T</td>\n",
       "      <td>Right Click</td>\n",
       "      <td>Target: DestructibleSignsConstruction [0028000...</td>\n",
       "    </tr>\n",
       "    <tr>\n",
       "      <th>28714524</th>\n",
       "      <td>55658</td>\n",
       "      <td>3.10</td>\n",
       "      <td>1</td>\n",
       "      <td>T</td>\n",
       "      <td>Right Click</td>\n",
       "      <td>Target: DestructibleSignsConstruction [0028000...</td>\n",
       "    </tr>\n",
       "    <tr>\n",
       "      <th>28714537</th>\n",
       "      <td>55658</td>\n",
       "      <td>3.14</td>\n",
       "      <td>1</td>\n",
       "      <td>T</td>\n",
       "      <td>Right Click</td>\n",
       "      <td>Target: Barracks [03DC0001]; Location: (132.5,...</td>\n",
       "    </tr>\n",
       "    <tr>\n",
       "      <th>28714597</th>\n",
       "      <td>55658</td>\n",
       "      <td>3.42</td>\n",
       "      <td>1</td>\n",
       "      <td>T</td>\n",
       "      <td>Right Click</td>\n",
       "      <td>Target: DestructibleSignsConstruction [0028000...</td>\n",
       "    </tr>\n",
       "    <tr>\n",
       "      <th>28714647</th>\n",
       "      <td>55658</td>\n",
       "      <td>4.00</td>\n",
       "      <td>0</td>\n",
       "      <td>Z</td>\n",
       "      <td>Right Click</td>\n",
       "      <td>Target: DestructibleSignsConstruction [000C000...</td>\n",
       "    </tr>\n",
       "  </tbody>\n",
       "</table>\n",
       "<p>1138608 rows × 6 columns</p>\n",
       "</div>"
      ],
      "text/plain": [
       "          game_id  time  player species        event  \\\n",
       "12          38872  0.03       0       P  Right Click   \n",
       "15          38872  0.04       0       P  Right Click   \n",
       "113         38872  0.56       1       P  Right Click   \n",
       "121         38872  1.02       0       P  Right Click   \n",
       "136         38872  1.12       0       P  Right Click   \n",
       "...           ...   ...     ...     ...          ...   \n",
       "28714496    55658  2.59       1       T  Right Click   \n",
       "28714524    55658  3.10       1       T  Right Click   \n",
       "28714537    55658  3.14       1       T  Right Click   \n",
       "28714597    55658  3.42       1       T  Right Click   \n",
       "28714647    55658  4.00       0       Z  Right Click   \n",
       "\n",
       "                                             event_contents  \n",
       "12        Target: None [01FC0001]; Location: (18.0, 87.5...  \n",
       "15        Target: None [01FC0001]; Location: (18.0, 87.5...  \n",
       "113       Target: None [015C0001]; Location: (127.0, 155...  \n",
       "121       Target: None [01FC0001]; Location: (18.0, 87.5...  \n",
       "136       Target: None [01FC0001]; Location: (18.0, 87.5...  \n",
       "...                                                     ...  \n",
       "28714496  Target: DestructibleSignsConstruction [0028000...  \n",
       "28714524  Target: DestructibleSignsConstruction [0028000...  \n",
       "28714537  Target: Barracks [03DC0001]; Location: (132.5,...  \n",
       "28714597  Target: DestructibleSignsConstruction [0028000...  \n",
       "28714647  Target: DestructibleSignsConstruction [000C000...  \n",
       "\n",
       "[1138608 rows x 6 columns]"
      ]
     },
     "execution_count": 6,
     "metadata": {},
     "output_type": "execute_result"
    }
   ],
   "source": [
    "test_right"
   ]
  },
  {
   "cell_type": "code",
   "execution_count": 7,
   "metadata": {},
   "outputs": [],
   "source": [
    "# 칼럼 단어만 추출하기\n",
    "def eliminated_sc(text):\n",
    "    word = text.split(' [')\n",
    "    col_name = word[0].split(\": \")\n",
    "    if (len(col_name) > 1):\n",
    "        result = col_name[1]\n",
    "    else:\n",
    "        result = 'None'\n",
    "    return result"
   ]
  },
  {
   "cell_type": "code",
   "execution_count": 8,
   "metadata": {},
   "outputs": [
    {
     "name": "stderr",
     "output_type": "stream",
     "text": [
      "/home/realna/anaconda3/lib/python3.7/site-packages/pandas/core/generic.py:5303: SettingWithCopyWarning: \n",
      "A value is trying to be set on a copy of a slice from a DataFrame.\n",
      "Try using .loc[row_indexer,col_indexer] = value instead\n",
      "\n",
      "See the caveats in the documentation: https://pandas.pydata.org/pandas-docs/stable/user_guide/indexing.html#returning-a-view-versus-a-copy\n",
      "  self[name] = value\n"
     ]
    }
   ],
   "source": [
    "train_right.event_contents = train_right.event_contents.apply(lambda x : eliminated_sc(x))"
   ]
  },
  {
   "cell_type": "code",
   "execution_count": 8,
   "metadata": {},
   "outputs": [
    {
     "name": "stderr",
     "output_type": "stream",
     "text": [
      "/home/realna/anaconda3/lib/python3.7/site-packages/pandas/core/generic.py:5303: SettingWithCopyWarning: \n",
      "A value is trying to be set on a copy of a slice from a DataFrame.\n",
      "Try using .loc[row_indexer,col_indexer] = value instead\n",
      "\n",
      "See the caveats in the documentation: https://pandas.pydata.org/pandas-docs/stable/user_guide/indexing.html#returning-a-view-versus-a-copy\n",
      "  self[name] = value\n"
     ]
    }
   ],
   "source": [
    "test_right.event_contents = test_right.event_contents.apply(lambda x : eliminated_sc(x))"
   ]
  },
  {
   "cell_type": "code",
   "execution_count": 9,
   "metadata": {},
   "outputs": [],
   "source": [
    "train_right = train_right[train_right[\"event_contents\"]!=\"None\"]"
   ]
  },
  {
   "cell_type": "code",
   "execution_count": 10,
   "metadata": {},
   "outputs": [
    {
     "data": {
      "text/html": [
       "<div>\n",
       "<style scoped>\n",
       "    .dataframe tbody tr th:only-of-type {\n",
       "        vertical-align: middle;\n",
       "    }\n",
       "\n",
       "    .dataframe tbody tr th {\n",
       "        vertical-align: top;\n",
       "    }\n",
       "\n",
       "    .dataframe thead th {\n",
       "        text-align: right;\n",
       "    }\n",
       "</style>\n",
       "<table border=\"1\" class=\"dataframe\">\n",
       "  <thead>\n",
       "    <tr style=\"text-align: right;\">\n",
       "      <th></th>\n",
       "      <th>game_id</th>\n",
       "      <th>winner</th>\n",
       "      <th>time</th>\n",
       "      <th>player</th>\n",
       "      <th>species</th>\n",
       "      <th>event</th>\n",
       "      <th>event_contents</th>\n",
       "    </tr>\n",
       "  </thead>\n",
       "  <tbody>\n",
       "    <tr>\n",
       "      <th>142</th>\n",
       "      <td>0</td>\n",
       "      <td>1</td>\n",
       "      <td>1.30</td>\n",
       "      <td>1</td>\n",
       "      <td>T</td>\n",
       "      <td>Right Click</td>\n",
       "      <td>Refinery</td>\n",
       "    </tr>\n",
       "    <tr>\n",
       "      <th>571</th>\n",
       "      <td>0</td>\n",
       "      <td>1</td>\n",
       "      <td>4.07</td>\n",
       "      <td>1</td>\n",
       "      <td>T</td>\n",
       "      <td>Right Click</td>\n",
       "      <td>Refinery</td>\n",
       "    </tr>\n",
       "    <tr>\n",
       "      <th>573</th>\n",
       "      <td>0</td>\n",
       "      <td>1</td>\n",
       "      <td>4.08</td>\n",
       "      <td>1</td>\n",
       "      <td>T</td>\n",
       "      <td>Right Click</td>\n",
       "      <td>Reaper</td>\n",
       "    </tr>\n",
       "    <tr>\n",
       "      <th>574</th>\n",
       "      <td>0</td>\n",
       "      <td>1</td>\n",
       "      <td>4.09</td>\n",
       "      <td>1</td>\n",
       "      <td>T</td>\n",
       "      <td>Right Click</td>\n",
       "      <td>Reaper</td>\n",
       "    </tr>\n",
       "    <tr>\n",
       "      <th>579</th>\n",
       "      <td>0</td>\n",
       "      <td>1</td>\n",
       "      <td>4.12</td>\n",
       "      <td>1</td>\n",
       "      <td>T</td>\n",
       "      <td>Right Click</td>\n",
       "      <td>OrbitalCommand</td>\n",
       "    </tr>\n",
       "    <tr>\n",
       "      <th>...</th>\n",
       "      <td>...</td>\n",
       "      <td>...</td>\n",
       "      <td>...</td>\n",
       "      <td>...</td>\n",
       "      <td>...</td>\n",
       "      <td>...</td>\n",
       "      <td>...</td>\n",
       "    </tr>\n",
       "    <tr>\n",
       "      <th>67091733</th>\n",
       "      <td>38871</td>\n",
       "      <td>0</td>\n",
       "      <td>8.47</td>\n",
       "      <td>0</td>\n",
       "      <td>Z</td>\n",
       "      <td>Right Click</td>\n",
       "      <td>DestructibleSignsFunny</td>\n",
       "    </tr>\n",
       "    <tr>\n",
       "      <th>67091734</th>\n",
       "      <td>38871</td>\n",
       "      <td>0</td>\n",
       "      <td>8.47</td>\n",
       "      <td>0</td>\n",
       "      <td>Z</td>\n",
       "      <td>Right Click</td>\n",
       "      <td>DestructibleSignsFunny</td>\n",
       "    </tr>\n",
       "    <tr>\n",
       "      <th>67091737</th>\n",
       "      <td>38871</td>\n",
       "      <td>0</td>\n",
       "      <td>8.48</td>\n",
       "      <td>0</td>\n",
       "      <td>Z</td>\n",
       "      <td>Right Click</td>\n",
       "      <td>DestructibleSignsFunny</td>\n",
       "    </tr>\n",
       "    <tr>\n",
       "      <th>67091741</th>\n",
       "      <td>38871</td>\n",
       "      <td>0</td>\n",
       "      <td>8.48</td>\n",
       "      <td>0</td>\n",
       "      <td>Z</td>\n",
       "      <td>Right Click</td>\n",
       "      <td>DestructibleSignsFunny</td>\n",
       "    </tr>\n",
       "    <tr>\n",
       "      <th>67091744</th>\n",
       "      <td>38871</td>\n",
       "      <td>0</td>\n",
       "      <td>8.48</td>\n",
       "      <td>0</td>\n",
       "      <td>Z</td>\n",
       "      <td>Right Click</td>\n",
       "      <td>DestructibleSignsFunny</td>\n",
       "    </tr>\n",
       "  </tbody>\n",
       "</table>\n",
       "<p>2048905 rows × 7 columns</p>\n",
       "</div>"
      ],
      "text/plain": [
       "          game_id  winner  time  player species        event  \\\n",
       "142             0       1  1.30       1       T  Right Click   \n",
       "571             0       1  4.07       1       T  Right Click   \n",
       "573             0       1  4.08       1       T  Right Click   \n",
       "574             0       1  4.09       1       T  Right Click   \n",
       "579             0       1  4.12       1       T  Right Click   \n",
       "...           ...     ...   ...     ...     ...          ...   \n",
       "67091733    38871       0  8.47       0       Z  Right Click   \n",
       "67091734    38871       0  8.47       0       Z  Right Click   \n",
       "67091737    38871       0  8.48       0       Z  Right Click   \n",
       "67091741    38871       0  8.48       0       Z  Right Click   \n",
       "67091744    38871       0  8.48       0       Z  Right Click   \n",
       "\n",
       "                  event_contents  \n",
       "142                     Refinery  \n",
       "571                     Refinery  \n",
       "573                       Reaper  \n",
       "574                       Reaper  \n",
       "579               OrbitalCommand  \n",
       "...                          ...  \n",
       "67091733  DestructibleSignsFunny  \n",
       "67091734  DestructibleSignsFunny  \n",
       "67091737  DestructibleSignsFunny  \n",
       "67091741  DestructibleSignsFunny  \n",
       "67091744  DestructibleSignsFunny  \n",
       "\n",
       "[2048905 rows x 7 columns]"
      ]
     },
     "execution_count": 10,
     "metadata": {},
     "output_type": "execute_result"
    }
   ],
   "source": [
    "train_right"
   ]
  },
  {
   "cell_type": "code",
   "execution_count": 9,
   "metadata": {},
   "outputs": [],
   "source": [
    "test_right = test_right[test_right[\"event_contents\"]!=\"None\"]"
   ]
  },
  {
   "cell_type": "code",
   "execution_count": 10,
   "metadata": {},
   "outputs": [
    {
     "data": {
      "text/html": [
       "<div>\n",
       "<style scoped>\n",
       "    .dataframe tbody tr th:only-of-type {\n",
       "        vertical-align: middle;\n",
       "    }\n",
       "\n",
       "    .dataframe tbody tr th {\n",
       "        vertical-align: top;\n",
       "    }\n",
       "\n",
       "    .dataframe thead th {\n",
       "        text-align: right;\n",
       "    }\n",
       "</style>\n",
       "<table border=\"1\" class=\"dataframe\">\n",
       "  <thead>\n",
       "    <tr style=\"text-align: right;\">\n",
       "      <th></th>\n",
       "      <th>game_id</th>\n",
       "      <th>time</th>\n",
       "      <th>player</th>\n",
       "      <th>species</th>\n",
       "      <th>event</th>\n",
       "      <th>event_contents</th>\n",
       "    </tr>\n",
       "  </thead>\n",
       "  <tbody>\n",
       "    <tr>\n",
       "      <th>172</th>\n",
       "      <td>38872</td>\n",
       "      <td>1.40</td>\n",
       "      <td>0</td>\n",
       "      <td>P</td>\n",
       "      <td>Right Click</td>\n",
       "      <td>Nexus</td>\n",
       "    </tr>\n",
       "    <tr>\n",
       "      <th>173</th>\n",
       "      <td>38872</td>\n",
       "      <td>1.41</td>\n",
       "      <td>0</td>\n",
       "      <td>P</td>\n",
       "      <td>Right Click</td>\n",
       "      <td>Nexus</td>\n",
       "    </tr>\n",
       "    <tr>\n",
       "      <th>174</th>\n",
       "      <td>38872</td>\n",
       "      <td>1.41</td>\n",
       "      <td>0</td>\n",
       "      <td>P</td>\n",
       "      <td>Right Click</td>\n",
       "      <td>Nexus</td>\n",
       "    </tr>\n",
       "    <tr>\n",
       "      <th>175</th>\n",
       "      <td>38872</td>\n",
       "      <td>1.41</td>\n",
       "      <td>0</td>\n",
       "      <td>P</td>\n",
       "      <td>Right Click</td>\n",
       "      <td>Nexus</td>\n",
       "    </tr>\n",
       "    <tr>\n",
       "      <th>180</th>\n",
       "      <td>38872</td>\n",
       "      <td>1.42</td>\n",
       "      <td>0</td>\n",
       "      <td>P</td>\n",
       "      <td>Right Click</td>\n",
       "      <td>Assimilator</td>\n",
       "    </tr>\n",
       "    <tr>\n",
       "      <th>...</th>\n",
       "      <td>...</td>\n",
       "      <td>...</td>\n",
       "      <td>...</td>\n",
       "      <td>...</td>\n",
       "      <td>...</td>\n",
       "      <td>...</td>\n",
       "    </tr>\n",
       "    <tr>\n",
       "      <th>28714496</th>\n",
       "      <td>55658</td>\n",
       "      <td>2.59</td>\n",
       "      <td>1</td>\n",
       "      <td>T</td>\n",
       "      <td>Right Click</td>\n",
       "      <td>DestructibleSignsConstruction</td>\n",
       "    </tr>\n",
       "    <tr>\n",
       "      <th>28714524</th>\n",
       "      <td>55658</td>\n",
       "      <td>3.10</td>\n",
       "      <td>1</td>\n",
       "      <td>T</td>\n",
       "      <td>Right Click</td>\n",
       "      <td>DestructibleSignsConstruction</td>\n",
       "    </tr>\n",
       "    <tr>\n",
       "      <th>28714537</th>\n",
       "      <td>55658</td>\n",
       "      <td>3.14</td>\n",
       "      <td>1</td>\n",
       "      <td>T</td>\n",
       "      <td>Right Click</td>\n",
       "      <td>Barracks</td>\n",
       "    </tr>\n",
       "    <tr>\n",
       "      <th>28714597</th>\n",
       "      <td>55658</td>\n",
       "      <td>3.42</td>\n",
       "      <td>1</td>\n",
       "      <td>T</td>\n",
       "      <td>Right Click</td>\n",
       "      <td>DestructibleSignsConstruction</td>\n",
       "    </tr>\n",
       "    <tr>\n",
       "      <th>28714647</th>\n",
       "      <td>55658</td>\n",
       "      <td>4.00</td>\n",
       "      <td>0</td>\n",
       "      <td>Z</td>\n",
       "      <td>Right Click</td>\n",
       "      <td>DestructibleSignsConstruction</td>\n",
       "    </tr>\n",
       "  </tbody>\n",
       "</table>\n",
       "<p>869789 rows × 6 columns</p>\n",
       "</div>"
      ],
      "text/plain": [
       "          game_id  time  player species        event  \\\n",
       "172         38872  1.40       0       P  Right Click   \n",
       "173         38872  1.41       0       P  Right Click   \n",
       "174         38872  1.41       0       P  Right Click   \n",
       "175         38872  1.41       0       P  Right Click   \n",
       "180         38872  1.42       0       P  Right Click   \n",
       "...           ...   ...     ...     ...          ...   \n",
       "28714496    55658  2.59       1       T  Right Click   \n",
       "28714524    55658  3.10       1       T  Right Click   \n",
       "28714537    55658  3.14       1       T  Right Click   \n",
       "28714597    55658  3.42       1       T  Right Click   \n",
       "28714647    55658  4.00       0       Z  Right Click   \n",
       "\n",
       "                         event_contents  \n",
       "172                               Nexus  \n",
       "173                               Nexus  \n",
       "174                               Nexus  \n",
       "175                               Nexus  \n",
       "180                         Assimilator  \n",
       "...                                 ...  \n",
       "28714496  DestructibleSignsConstruction  \n",
       "28714524  DestructibleSignsConstruction  \n",
       "28714537                       Barracks  \n",
       "28714597  DestructibleSignsConstruction  \n",
       "28714647  DestructibleSignsConstruction  \n",
       "\n",
       "[869789 rows x 6 columns]"
      ]
     },
     "execution_count": 10,
     "metadata": {},
     "output_type": "execute_result"
    }
   ],
   "source": [
    "test_right"
   ]
  },
  {
   "cell_type": "code",
   "execution_count": 11,
   "metadata": {},
   "outputs": [],
   "source": [
    "def make_column(game_id,player,event_contents):\n",
    "    player_num = \"p\"+str(player)\n",
    "    col_name = player_num+\"_\"+\"rc_\"+str(event_contents)\n",
    "    if col_name in df_train.columns:\n",
    "        df_train.loc[game_id,col_name] += 1\n",
    "    else:\n",
    "        df_train[col_name] = 0\n",
    "        df_train.loc[game_id,col_name] += 1        "
   ]
  },
  {
   "cell_type": "code",
   "execution_count": 13,
   "metadata": {},
   "outputs": [],
   "source": [
    "def make_column_test(game_id,player,event_contents):\n",
    "    game_id = game_id - 38872\n",
    "    player_num = \"p\"+str(player)\n",
    "    col_name = player_num+\"_\"+\"rc_\"+str(event_contents)\n",
    "    if col_name in df_test.columns:\n",
    "        df_test.loc[game_id,col_name] += 1\n",
    "    else:\n",
    "        df_test[col_name] = 0\n",
    "        df_test.loc[game_id,col_name] += 1        "
   ]
  },
  {
   "cell_type": "code",
   "execution_count": 12,
   "metadata": {},
   "outputs": [],
   "source": [
    "game_id_unique = train[\"game_id\"].unique()\n",
    "df_train = pd.DataFrame(game_id_unique,columns=['game_id'])"
   ]
  },
  {
   "cell_type": "code",
   "execution_count": 12,
   "metadata": {},
   "outputs": [],
   "source": [
    "game_id_unique_test = test[\"game_id\"].unique()\n",
    "df_test = pd.DataFrame(game_id_unique_test,columns=['game_id'])"
   ]
  },
  {
   "cell_type": "code",
   "execution_count": 13,
   "metadata": {},
   "outputs": [
    {
     "data": {
      "text/plain": [
       "142         None\n",
       "571         None\n",
       "573         None\n",
       "574         None\n",
       "579         None\n",
       "            ... \n",
       "67091733    None\n",
       "67091734    None\n",
       "67091737    None\n",
       "67091741    None\n",
       "67091744    None\n",
       "Length: 2048905, dtype: object"
      ]
     },
     "execution_count": 13,
     "metadata": {},
     "output_type": "execute_result"
    }
   ],
   "source": [
    "train_right.apply(lambda x : make_column(x[\"game_id\"],x[\"player\"],x[\"event_contents\"]) , axis = 1 )"
   ]
  },
  {
   "cell_type": "code",
   "execution_count": 14,
   "metadata": {},
   "outputs": [
    {
     "data": {
      "text/plain": [
       "172         None\n",
       "173         None\n",
       "174         None\n",
       "175         None\n",
       "180         None\n",
       "            ... \n",
       "28714496    None\n",
       "28714524    None\n",
       "28714537    None\n",
       "28714597    None\n",
       "28714647    None\n",
       "Length: 869789, dtype: object"
      ]
     },
     "execution_count": 14,
     "metadata": {},
     "output_type": "execute_result"
    }
   ],
   "source": [
    "test_right.apply(lambda x : make_column_test(x[\"game_id\"],x[\"player\"],x[\"event_contents\"]) , axis = 1 )"
   ]
  },
  {
   "cell_type": "code",
   "execution_count": 14,
   "metadata": {
    "scrolled": true
   },
   "outputs": [
    {
     "data": {
      "text/plain": [
       "(38872, 346)"
      ]
     },
     "execution_count": 14,
     "metadata": {},
     "output_type": "execute_result"
    }
   ],
   "source": [
    "df_train.shape"
   ]
  },
  {
   "cell_type": "code",
   "execution_count": 15,
   "metadata": {},
   "outputs": [
    {
     "data": {
      "text/plain": [
       "(16787, 333)"
      ]
     },
     "execution_count": 15,
     "metadata": {},
     "output_type": "execute_result"
    }
   ],
   "source": [
    "df_test.shape"
   ]
  },
  {
   "cell_type": "code",
   "execution_count": 15,
   "metadata": {},
   "outputs": [],
   "source": [
    "df_train.to_csv(\"rightclick_train.csv\",encoding=\"utf-8\",index=False)"
   ]
  },
  {
   "cell_type": "code",
   "execution_count": 16,
   "metadata": {},
   "outputs": [],
   "source": [
    "df_test.to_csv(\"rightclick_test.csv\",encoding=\"utf-8\",index=False)"
   ]
  },
  {
   "cell_type": "code",
   "execution_count": 55,
   "metadata": {},
   "outputs": [],
   "source": [
    "df_train = pd.read_csv(\"rightclick_train.csv\",encoding=\"utf-8\")\n",
    "df_test = pd.read_csv(\"rightclick_test.csv\",encoding=\"utf-8\")"
   ]
  },
  {
   "cell_type": "code",
   "execution_count": 56,
   "metadata": {},
   "outputs": [
    {
     "name": "stderr",
     "output_type": "stream",
     "text": [
      "/home/realna/anaconda3/lib/python3.7/site-packages/IPython/core/interactiveshell.py:3063: DtypeWarning: Columns (2,4) have mixed types.Specify dtype option on import or set low_memory=False.\n",
      "  interactivity=interactivity, compiler=compiler, result=result)\n"
     ]
    }
   ],
   "source": [
    "df_train2 = pd.read_csv(\"select_train.csv\",encoding=\"utf-8\")"
   ]
  },
  {
   "cell_type": "code",
   "execution_count": 57,
   "metadata": {},
   "outputs": [],
   "source": [
    "df_test2 = pd.read_csv(\"select_test.csv\",encoding=\"utf-8\")"
   ]
  },
  {
   "cell_type": "code",
   "execution_count": 58,
   "metadata": {},
   "outputs": [
    {
     "name": "stderr",
     "output_type": "stream",
     "text": [
      "/home/realna/anaconda3/lib/python3.7/site-packages/IPython/core/interactiveshell.py:3063: DtypeWarning: Columns (2,6) have mixed types.Specify dtype option on import or set low_memory=False.\n",
      "  interactivity=interactivity, compiler=compiler, result=result)\n",
      "/home/realna/anaconda3/lib/python3.7/site-packages/IPython/core/interactiveshell.py:3063: DtypeWarning: Columns (1,3) have mixed types.Specify dtype option on import or set low_memory=False.\n",
      "  interactivity=interactivity, compiler=compiler, result=result)\n"
     ]
    }
   ],
   "source": [
    "df_train3 = pd.read_csv(\"traindata_200313.csv\",encoding=\"utf-8\")\n",
    "df_test3 = pd.read_csv(\"testdata_200313.csv\",encoding=\"utf-8\")"
   ]
  },
  {
   "cell_type": "code",
   "execution_count": 59,
   "metadata": {},
   "outputs": [],
   "source": [
    "df_test3[\"game_id\"] = df_test[\"game_id\"] #index로 인해 누락"
   ]
  },
  {
   "cell_type": "code",
   "execution_count": 60,
   "metadata": {},
   "outputs": [],
   "source": [
    "df_train2.drop([\"p0_species\",\"p1_species\"],1,inplace=True)\n",
    "df_test2.drop([\"p0_species\",\"p1_species\"],1,inplace=True)"
   ]
  },
  {
   "cell_type": "code",
   "execution_count": 66,
   "metadata": {},
   "outputs": [],
   "source": [
    "df_train[\"p0_species\"] = df_train3[\"p0_species\"]\n",
    "df_train[\"p1_species\"] = df_train3[\"p1_species\"]\n"
   ]
  },
  {
   "cell_type": "code",
   "execution_count": 62,
   "metadata": {},
   "outputs": [],
   "source": [
    "df_train = pd.merge(df_train, df_train2, on='game_id', how='outer')\n",
    "df_test = pd.merge(df_test, df_test2, on='game_id', how='outer')"
   ]
  },
  {
   "cell_type": "code",
   "execution_count": 63,
   "metadata": {},
   "outputs": [],
   "source": [
    "df_train = pd.merge(df_train, df_train3, on='game_id', how='outer')\n",
    "df_test = pd.merge(df_test, df_test3, on='game_id', how='outer')"
   ]
  },
  {
   "cell_type": "code",
   "execution_count": 29,
   "metadata": {},
   "outputs": [],
   "source": [
    "y_train = pd.read_csv(\"y_train.csv\",encoding=\"utf-8\")"
   ]
  },
  {
   "cell_type": "code",
   "execution_count": 31,
   "metadata": {},
   "outputs": [],
   "source": [
    "y_train = y_train[\"winner\"]"
   ]
  },
  {
   "cell_type": "code",
   "execution_count": 64,
   "metadata": {},
   "outputs": [],
   "source": [
    "df_train.drop([\"game_id\"],1,inplace=True)\n",
    "df_test.drop([\"game_id\"],1,inplace=True)"
   ]
  },
  {
   "cell_type": "code",
   "execution_count": 3,
   "metadata": {},
   "outputs": [],
   "source": [
    "y_train = train[[\"game_id\",\"winner\"]]\n",
    "y_train = y_train.groupby(\"game_id\")[\"winner\"].mean()"
   ]
  },
  {
   "cell_type": "code",
   "execution_count": 67,
   "metadata": {},
   "outputs": [],
   "source": [
    "df_train[\"p0_species\"] = df_train[\"p0_species\"].map({'T':1,'P':2,'Z':3}) #종족 변수를 숫자로 변경\n",
    "df_train[\"p1_species\"] = df_train[\"p1_species\"].map({'T':1,'P':2,'Z':3})\n",
    "df_test[\"p0_species\"] = df_test[\"p0_species\"].map({'T':1,'P':2,'Z':3}) #종족 변수를 숫자로 변경\n",
    "df_test[\"p1_species\"] = df_test[\"p1_species\"].map({'T':1,'P':2,'Z':3})"
   ]
  },
  {
   "cell_type": "code",
   "execution_count": 68,
   "metadata": {},
   "outputs": [],
   "source": [
    "common_columns = list(set(df_train.columns) & set(df_test.columns))"
   ]
  },
  {
   "cell_type": "code",
   "execution_count": 70,
   "metadata": {},
   "outputs": [
    {
     "data": {
      "text/plain": [
       "1307"
      ]
     },
     "execution_count": 70,
     "metadata": {},
     "output_type": "execute_result"
    }
   ],
   "source": [
    "len(common_columns)"
   ]
  },
  {
   "cell_type": "code",
   "execution_count": 71,
   "metadata": {},
   "outputs": [],
   "source": [
    "df_train = df_train.fillna(0)\n",
    "df_test = df_test.fillna(0)"
   ]
  },
  {
   "cell_type": "code",
   "execution_count": 72,
   "metadata": {},
   "outputs": [],
   "source": [
    "df_train = df_train[common_columns]\n",
    "df_test = df_test[common_columns]"
   ]
  },
  {
   "cell_type": "code",
   "execution_count": 73,
   "metadata": {},
   "outputs": [],
   "source": [
    "from sklearn.metrics import roc_auc_score   # AUC 스코어 계산\n",
    "from sklearn.model_selection import KFold   # K-fold CV    \n",
    "from bayes_opt import BayesianOptimization  # 베이지안 최적화 라이브러리  \n",
    "from functools import partial               # 함수 변수 고정\n",
    "import lightgbm as lgb"
   ]
  },
  {
   "cell_type": "code",
   "execution_count": 51,
   "metadata": {},
   "outputs": [],
   "source": [
    "def lgb_cv(num_leaves,subsample, learning_rate, n_estimators, colsample_bytree, reg_alpha, reg_lambda,\n",
    "           x_data=None, y_data=None, n_splits=5, output='score'):\n",
    "    score = 0\n",
    "    kf = KFold(n_splits=n_splits)\n",
    "    models = []\n",
    "    for train_index, valid_index in kf.split(x_data):\n",
    "        x_train, y_train = x_data.iloc[train_index], y_data[train_index]\n",
    "        x_valid, y_valid = x_data.iloc[valid_index], y_data[valid_index]\n",
    "        \n",
    "        model = lgb.LGBMClassifier(\n",
    "            num_leaves = int(num_leaves), \n",
    "            subsample = np.clip(subsample, 0, 1),\n",
    "            learning_rate = learning_rate, \n",
    "            n_estimators = int(n_estimators), \n",
    "            colsample_bytree = np.clip(colsample_bytree, 0, 1), \n",
    "            reg_alpha = reg_alpha, \n",
    "            reg_lambda = reg_lambda\n",
    "        )\n",
    "        \n",
    "        model.fit(x_train, y_train)\n",
    "        models.append(model)\n",
    "        \n",
    "        pred = model.predict_proba(x_valid)[:, 1]\n",
    "        true = y_valid\n",
    "        score += roc_auc_score(true, pred)/n_splits\n",
    "    \n",
    "    if output == 'score':\n",
    "        return score\n",
    "    if output == 'model':\n",
    "        return models"
   ]
  },
  {
   "cell_type": "code",
   "execution_count": 26,
   "metadata": {
    "scrolled": true
   },
   "outputs": [
    {
     "name": "stdout",
     "output_type": "stream",
     "text": [
      "|   iter    |  target   | colsam... | learni... | n_esti... | num_le... | reg_alpha | reg_la... | subsample |\n",
      "-------------------------------------------------------------------------------------------------------------\n",
      "| \u001b[0m 1       \u001b[0m | \u001b[0m 0.7258  \u001b[0m | \u001b[0m 0.4684  \u001b[0m | \u001b[0m 0.09508 \u001b[0m | \u001b[0m 1.518e+0\u001b[0m | \u001b[0m 590.2   \u001b[0m | \u001b[0m 2.748   \u001b[0m | \u001b[0m 27.16   \u001b[0m | \u001b[0m 0.05808 \u001b[0m |\n",
      "| \u001b[95m 2       \u001b[0m | \u001b[95m 0.7296  \u001b[0m | \u001b[95m 0.8862  \u001b[0m | \u001b[95m 0.06015 \u001b[0m | \u001b[95m 1.475e+0\u001b[0m | \u001b[95m 143.9   \u001b[0m | \u001b[95m 9.259   \u001b[0m | \u001b[95m 101.6   \u001b[0m | \u001b[95m 0.2123  \u001b[0m |\n"
     ]
    },
    {
     "ename": "KeyboardInterrupt",
     "evalue": "",
     "output_type": "error",
     "traceback": [
      "\u001b[0;31m---------------------------------------------------------------------------\u001b[0m",
      "\u001b[0;31mKeyError\u001b[0m                                  Traceback (most recent call last)",
      "\u001b[0;32m~/anaconda3/lib/python3.7/site-packages/bayes_opt/target_space.py\u001b[0m in \u001b[0;36mprobe\u001b[0;34m(self, params)\u001b[0m\n\u001b[1;32m    190\u001b[0m         \u001b[0;32mtry\u001b[0m\u001b[0;34m:\u001b[0m\u001b[0;34m\u001b[0m\u001b[0;34m\u001b[0m\u001b[0m\n\u001b[0;32m--> 191\u001b[0;31m             \u001b[0mtarget\u001b[0m \u001b[0;34m=\u001b[0m \u001b[0mself\u001b[0m\u001b[0;34m.\u001b[0m\u001b[0m_cache\u001b[0m\u001b[0;34m[\u001b[0m\u001b[0m_hashable\u001b[0m\u001b[0;34m(\u001b[0m\u001b[0mx\u001b[0m\u001b[0;34m)\u001b[0m\u001b[0;34m]\u001b[0m\u001b[0;34m\u001b[0m\u001b[0;34m\u001b[0m\u001b[0m\n\u001b[0m\u001b[1;32m    192\u001b[0m         \u001b[0;32mexcept\u001b[0m \u001b[0mKeyError\u001b[0m\u001b[0;34m:\u001b[0m\u001b[0;34m\u001b[0m\u001b[0;34m\u001b[0m\u001b[0m\n",
      "\u001b[0;31mKeyError\u001b[0m: (0.3045512221260355, 0.01842211053435804, 747.6360373271679, 533.1119652200875, 4.955560149136926, 42.03520542178461, 0.6118528947223795)",
      "\nDuring handling of the above exception, another exception occurred:\n",
      "\u001b[0;31mKeyboardInterrupt\u001b[0m                         Traceback (most recent call last)",
      "\u001b[0;32m<ipython-input-26-4b647e8752df>\u001b[0m in \u001b[0;36m<module>\u001b[0;34m\u001b[0m\n\u001b[1;32m     13\u001b[0m     \u001b[0mrandom_state\u001b[0m\u001b[0;34m=\u001b[0m\u001b[0;36m42\u001b[0m\u001b[0;34m\u001b[0m\u001b[0;34m\u001b[0m\u001b[0m\n\u001b[1;32m     14\u001b[0m )\n\u001b[0;32m---> 15\u001b[0;31m \u001b[0mlgbBO\u001b[0m\u001b[0;34m.\u001b[0m\u001b[0mmaximize\u001b[0m\u001b[0;34m(\u001b[0m\u001b[0minit_points\u001b[0m\u001b[0;34m=\u001b[0m\u001b[0;36m5\u001b[0m\u001b[0;34m,\u001b[0m \u001b[0mn_iter\u001b[0m\u001b[0;34m=\u001b[0m\u001b[0;36m30\u001b[0m\u001b[0;34m)\u001b[0m\u001b[0;34m\u001b[0m\u001b[0;34m\u001b[0m\u001b[0m\n\u001b[0m",
      "\u001b[0;32m~/anaconda3/lib/python3.7/site-packages/bayes_opt/bayesian_optimization.py\u001b[0m in \u001b[0;36mmaximize\u001b[0;34m(self, init_points, n_iter, acq, kappa, xi, **gp_params)\u001b[0m\n\u001b[1;32m    172\u001b[0m                 \u001b[0miteration\u001b[0m \u001b[0;34m+=\u001b[0m \u001b[0;36m1\u001b[0m\u001b[0;34m\u001b[0m\u001b[0;34m\u001b[0m\u001b[0m\n\u001b[1;32m    173\u001b[0m \u001b[0;34m\u001b[0m\u001b[0m\n\u001b[0;32m--> 174\u001b[0;31m             \u001b[0mself\u001b[0m\u001b[0;34m.\u001b[0m\u001b[0mprobe\u001b[0m\u001b[0;34m(\u001b[0m\u001b[0mx_probe\u001b[0m\u001b[0;34m,\u001b[0m \u001b[0mlazy\u001b[0m\u001b[0;34m=\u001b[0m\u001b[0;32mFalse\u001b[0m\u001b[0;34m)\u001b[0m\u001b[0;34m\u001b[0m\u001b[0;34m\u001b[0m\u001b[0m\n\u001b[0m\u001b[1;32m    175\u001b[0m \u001b[0;34m\u001b[0m\u001b[0m\n\u001b[1;32m    176\u001b[0m         \u001b[0mself\u001b[0m\u001b[0;34m.\u001b[0m\u001b[0mdispatch\u001b[0m\u001b[0;34m(\u001b[0m\u001b[0mEvents\u001b[0m\u001b[0;34m.\u001b[0m\u001b[0mOPTIMIZATION_END\u001b[0m\u001b[0;34m)\u001b[0m\u001b[0;34m\u001b[0m\u001b[0;34m\u001b[0m\u001b[0m\n",
      "\u001b[0;32m~/anaconda3/lib/python3.7/site-packages/bayes_opt/bayesian_optimization.py\u001b[0m in \u001b[0;36mprobe\u001b[0;34m(self, params, lazy)\u001b[0m\n\u001b[1;32m    110\u001b[0m             \u001b[0mself\u001b[0m\u001b[0;34m.\u001b[0m\u001b[0m_queue\u001b[0m\u001b[0;34m.\u001b[0m\u001b[0madd\u001b[0m\u001b[0;34m(\u001b[0m\u001b[0mparams\u001b[0m\u001b[0;34m)\u001b[0m\u001b[0;34m\u001b[0m\u001b[0;34m\u001b[0m\u001b[0m\n\u001b[1;32m    111\u001b[0m         \u001b[0;32melse\u001b[0m\u001b[0;34m:\u001b[0m\u001b[0;34m\u001b[0m\u001b[0;34m\u001b[0m\u001b[0m\n\u001b[0;32m--> 112\u001b[0;31m             \u001b[0mself\u001b[0m\u001b[0;34m.\u001b[0m\u001b[0m_space\u001b[0m\u001b[0;34m.\u001b[0m\u001b[0mprobe\u001b[0m\u001b[0;34m(\u001b[0m\u001b[0mparams\u001b[0m\u001b[0;34m)\u001b[0m\u001b[0;34m\u001b[0m\u001b[0;34m\u001b[0m\u001b[0m\n\u001b[0m\u001b[1;32m    113\u001b[0m             \u001b[0mself\u001b[0m\u001b[0;34m.\u001b[0m\u001b[0mdispatch\u001b[0m\u001b[0;34m(\u001b[0m\u001b[0mEvents\u001b[0m\u001b[0;34m.\u001b[0m\u001b[0mOPTIMIZATION_STEP\u001b[0m\u001b[0;34m)\u001b[0m\u001b[0;34m\u001b[0m\u001b[0;34m\u001b[0m\u001b[0m\n\u001b[1;32m    114\u001b[0m \u001b[0;34m\u001b[0m\u001b[0m\n",
      "\u001b[0;32m~/anaconda3/lib/python3.7/site-packages/bayes_opt/target_space.py\u001b[0m in \u001b[0;36mprobe\u001b[0;34m(self, params)\u001b[0m\n\u001b[1;32m    192\u001b[0m         \u001b[0;32mexcept\u001b[0m \u001b[0mKeyError\u001b[0m\u001b[0;34m:\u001b[0m\u001b[0;34m\u001b[0m\u001b[0;34m\u001b[0m\u001b[0m\n\u001b[1;32m    193\u001b[0m             \u001b[0mparams\u001b[0m \u001b[0;34m=\u001b[0m \u001b[0mdict\u001b[0m\u001b[0;34m(\u001b[0m\u001b[0mzip\u001b[0m\u001b[0;34m(\u001b[0m\u001b[0mself\u001b[0m\u001b[0;34m.\u001b[0m\u001b[0m_keys\u001b[0m\u001b[0;34m,\u001b[0m \u001b[0mx\u001b[0m\u001b[0;34m)\u001b[0m\u001b[0;34m)\u001b[0m\u001b[0;34m\u001b[0m\u001b[0;34m\u001b[0m\u001b[0m\n\u001b[0;32m--> 194\u001b[0;31m             \u001b[0mtarget\u001b[0m \u001b[0;34m=\u001b[0m \u001b[0mself\u001b[0m\u001b[0;34m.\u001b[0m\u001b[0mtarget_func\u001b[0m\u001b[0;34m(\u001b[0m\u001b[0;34m**\u001b[0m\u001b[0mparams\u001b[0m\u001b[0;34m)\u001b[0m\u001b[0;34m\u001b[0m\u001b[0;34m\u001b[0m\u001b[0m\n\u001b[0m\u001b[1;32m    195\u001b[0m             \u001b[0mself\u001b[0m\u001b[0;34m.\u001b[0m\u001b[0mregister\u001b[0m\u001b[0;34m(\u001b[0m\u001b[0mx\u001b[0m\u001b[0;34m,\u001b[0m \u001b[0mtarget\u001b[0m\u001b[0;34m)\u001b[0m\u001b[0;34m\u001b[0m\u001b[0;34m\u001b[0m\u001b[0m\n\u001b[1;32m    196\u001b[0m         \u001b[0;32mreturn\u001b[0m \u001b[0mtarget\u001b[0m\u001b[0;34m\u001b[0m\u001b[0;34m\u001b[0m\u001b[0m\n",
      "\u001b[0;32m<ipython-input-22-4cf01855e25f>\u001b[0m in \u001b[0;36mlgb_cv\u001b[0;34m(num_leaves, subsample, learning_rate, n_estimators, colsample_bytree, reg_alpha, reg_lambda, x_data, y_data, n_splits, output)\u001b[0m\n\u001b[1;32m     18\u001b[0m         )\n\u001b[1;32m     19\u001b[0m \u001b[0;34m\u001b[0m\u001b[0m\n\u001b[0;32m---> 20\u001b[0;31m         \u001b[0mmodel\u001b[0m\u001b[0;34m.\u001b[0m\u001b[0mfit\u001b[0m\u001b[0;34m(\u001b[0m\u001b[0mx_train\u001b[0m\u001b[0;34m,\u001b[0m \u001b[0my_train\u001b[0m\u001b[0;34m)\u001b[0m\u001b[0;34m\u001b[0m\u001b[0;34m\u001b[0m\u001b[0m\n\u001b[0m\u001b[1;32m     21\u001b[0m         \u001b[0mmodels\u001b[0m\u001b[0;34m.\u001b[0m\u001b[0mappend\u001b[0m\u001b[0;34m(\u001b[0m\u001b[0mmodel\u001b[0m\u001b[0;34m)\u001b[0m\u001b[0;34m\u001b[0m\u001b[0;34m\u001b[0m\u001b[0m\n\u001b[1;32m     22\u001b[0m \u001b[0;34m\u001b[0m\u001b[0m\n",
      "\u001b[0;32m~/anaconda3/lib/python3.7/site-packages/lightgbm/sklearn.py\u001b[0m in \u001b[0;36mfit\u001b[0;34m(self, X, y, sample_weight, init_score, eval_set, eval_names, eval_sample_weight, eval_class_weight, eval_init_score, eval_metric, early_stopping_rounds, verbose, feature_name, categorical_feature, callbacks)\u001b[0m\n\u001b[1;32m    803\u001b[0m                                         \u001b[0mverbose\u001b[0m\u001b[0;34m=\u001b[0m\u001b[0mverbose\u001b[0m\u001b[0;34m,\u001b[0m \u001b[0mfeature_name\u001b[0m\u001b[0;34m=\u001b[0m\u001b[0mfeature_name\u001b[0m\u001b[0;34m,\u001b[0m\u001b[0;34m\u001b[0m\u001b[0;34m\u001b[0m\u001b[0m\n\u001b[1;32m    804\u001b[0m                                         \u001b[0mcategorical_feature\u001b[0m\u001b[0;34m=\u001b[0m\u001b[0mcategorical_feature\u001b[0m\u001b[0;34m,\u001b[0m\u001b[0;34m\u001b[0m\u001b[0;34m\u001b[0m\u001b[0m\n\u001b[0;32m--> 805\u001b[0;31m                                         callbacks=callbacks)\n\u001b[0m\u001b[1;32m    806\u001b[0m         \u001b[0;32mreturn\u001b[0m \u001b[0mself\u001b[0m\u001b[0;34m\u001b[0m\u001b[0;34m\u001b[0m\u001b[0m\n\u001b[1;32m    807\u001b[0m \u001b[0;34m\u001b[0m\u001b[0m\n",
      "\u001b[0;32m~/anaconda3/lib/python3.7/site-packages/lightgbm/sklearn.py\u001b[0m in \u001b[0;36mfit\u001b[0;34m(self, X, y, sample_weight, init_score, group, eval_set, eval_names, eval_sample_weight, eval_class_weight, eval_init_score, eval_group, eval_metric, early_stopping_rounds, verbose, feature_name, categorical_feature, callbacks)\u001b[0m\n\u001b[1;32m    598\u001b[0m                               \u001b[0mverbose_eval\u001b[0m\u001b[0;34m=\u001b[0m\u001b[0mverbose\u001b[0m\u001b[0;34m,\u001b[0m \u001b[0mfeature_name\u001b[0m\u001b[0;34m=\u001b[0m\u001b[0mfeature_name\u001b[0m\u001b[0;34m,\u001b[0m\u001b[0;34m\u001b[0m\u001b[0;34m\u001b[0m\u001b[0m\n\u001b[1;32m    599\u001b[0m                               \u001b[0mcategorical_feature\u001b[0m\u001b[0;34m=\u001b[0m\u001b[0mcategorical_feature\u001b[0m\u001b[0;34m,\u001b[0m\u001b[0;34m\u001b[0m\u001b[0;34m\u001b[0m\u001b[0m\n\u001b[0;32m--> 600\u001b[0;31m                               callbacks=callbacks)\n\u001b[0m\u001b[1;32m    601\u001b[0m \u001b[0;34m\u001b[0m\u001b[0m\n\u001b[1;32m    602\u001b[0m         \u001b[0;32mif\u001b[0m \u001b[0mevals_result\u001b[0m\u001b[0;34m:\u001b[0m\u001b[0;34m\u001b[0m\u001b[0;34m\u001b[0m\u001b[0m\n",
      "\u001b[0;32m~/anaconda3/lib/python3.7/site-packages/lightgbm/engine.py\u001b[0m in \u001b[0;36mtrain\u001b[0;34m(params, train_set, num_boost_round, valid_sets, valid_names, fobj, feval, init_model, feature_name, categorical_feature, early_stopping_rounds, evals_result, verbose_eval, learning_rates, keep_training_booster, callbacks)\u001b[0m\n\u001b[1;32m    247\u001b[0m                                     evaluation_result_list=None))\n\u001b[1;32m    248\u001b[0m \u001b[0;34m\u001b[0m\u001b[0m\n\u001b[0;32m--> 249\u001b[0;31m         \u001b[0mbooster\u001b[0m\u001b[0;34m.\u001b[0m\u001b[0mupdate\u001b[0m\u001b[0;34m(\u001b[0m\u001b[0mfobj\u001b[0m\u001b[0;34m=\u001b[0m\u001b[0mfobj\u001b[0m\u001b[0;34m)\u001b[0m\u001b[0;34m\u001b[0m\u001b[0;34m\u001b[0m\u001b[0m\n\u001b[0m\u001b[1;32m    250\u001b[0m \u001b[0;34m\u001b[0m\u001b[0m\n\u001b[1;32m    251\u001b[0m         \u001b[0mevaluation_result_list\u001b[0m \u001b[0;34m=\u001b[0m \u001b[0;34m[\u001b[0m\u001b[0;34m]\u001b[0m\u001b[0;34m\u001b[0m\u001b[0;34m\u001b[0m\u001b[0m\n",
      "\u001b[0;32m~/anaconda3/lib/python3.7/site-packages/lightgbm/basic.py\u001b[0m in \u001b[0;36mupdate\u001b[0;34m(self, train_set, fobj)\u001b[0m\n\u001b[1;32m   1974\u001b[0m             _safe_call(_LIB.LGBM_BoosterUpdateOneIter(\n\u001b[1;32m   1975\u001b[0m                 \u001b[0mself\u001b[0m\u001b[0;34m.\u001b[0m\u001b[0mhandle\u001b[0m\u001b[0;34m,\u001b[0m\u001b[0;34m\u001b[0m\u001b[0;34m\u001b[0m\u001b[0m\n\u001b[0;32m-> 1976\u001b[0;31m                 ctypes.byref(is_finished)))\n\u001b[0m\u001b[1;32m   1977\u001b[0m             \u001b[0mself\u001b[0m\u001b[0;34m.\u001b[0m\u001b[0m__is_predicted_cur_iter\u001b[0m \u001b[0;34m=\u001b[0m \u001b[0;34m[\u001b[0m\u001b[0;32mFalse\u001b[0m \u001b[0;32mfor\u001b[0m \u001b[0m_\u001b[0m \u001b[0;32min\u001b[0m \u001b[0mrange_\u001b[0m\u001b[0;34m(\u001b[0m\u001b[0mself\u001b[0m\u001b[0;34m.\u001b[0m\u001b[0m__num_dataset\u001b[0m\u001b[0;34m)\u001b[0m\u001b[0;34m]\u001b[0m\u001b[0;34m\u001b[0m\u001b[0;34m\u001b[0m\u001b[0m\n\u001b[1;32m   1978\u001b[0m             \u001b[0;32mreturn\u001b[0m \u001b[0mis_finished\u001b[0m\u001b[0;34m.\u001b[0m\u001b[0mvalue\u001b[0m \u001b[0;34m==\u001b[0m \u001b[0;36m1\u001b[0m\u001b[0;34m\u001b[0m\u001b[0;34m\u001b[0m\u001b[0m\n",
      "\u001b[0;31mKeyboardInterrupt\u001b[0m: "
     ]
    }
   ],
   "source": [
    "func_fixed = partial(lgb_cv, x_data=df_train, y_data=y_train, n_splits=5, output='score') \n",
    "lgbBO = BayesianOptimization(\n",
    "    func_fixed, \n",
    "    {\n",
    "        'num_leaves': (128, 900),\n",
    "        'subsample': (0, 1),             # subsample,        범위(0~1)\n",
    "        'learning_rate': (0.0001, 0.1),\n",
    "        'n_estimators': (200, 2000),\n",
    "        'colsample_bytree': (0.15, 1),\n",
    "        'reg_alpha': (1.5, 9.5), \n",
    "        'reg_lambda': (10, 120)\n",
    "    }, \n",
    "    random_state=42\n",
    ")\n",
    "lgbBO.maximize(init_points=5, n_iter=30)"
   ]
  },
  {
   "cell_type": "code",
   "execution_count": 74,
   "metadata": {},
   "outputs": [
    {
     "name": "stdout",
     "output_type": "stream",
     "text": [
      "|   iter    |  target   | colsam... | learni... | n_esti... | num_le... | reg_alpha | reg_la... | subsample |\n",
      "-------------------------------------------------------------------------------------------------------------\n",
      "| \u001b[0m 1       \u001b[0m | \u001b[0m 0.7272  \u001b[0m | \u001b[0m 0.4684  \u001b[0m | \u001b[0m 0.09508 \u001b[0m | \u001b[0m 1.518e+0\u001b[0m | \u001b[0m 590.2   \u001b[0m | \u001b[0m 2.748   \u001b[0m | \u001b[0m 27.16   \u001b[0m | \u001b[0m 0.05808 \u001b[0m |\n",
      "| \u001b[95m 2       \u001b[0m | \u001b[95m 0.7296  \u001b[0m | \u001b[95m 0.8862  \u001b[0m | \u001b[95m 0.06015 \u001b[0m | \u001b[95m 1.475e+0\u001b[0m | \u001b[95m 143.9   \u001b[0m | \u001b[95m 9.259   \u001b[0m | \u001b[95m 101.6   \u001b[0m | \u001b[95m 0.2123  \u001b[0m |\n",
      "| \u001b[95m 3       \u001b[0m | \u001b[95m 0.733   \u001b[0m | \u001b[95m 0.3046  \u001b[0m | \u001b[95m 0.01842 \u001b[0m | \u001b[95m 747.6   \u001b[0m | \u001b[95m 533.1   \u001b[0m | \u001b[95m 4.956   \u001b[0m | \u001b[95m 42.04   \u001b[0m | \u001b[95m 0.6119  \u001b[0m |\n",
      "| \u001b[95m 4       \u001b[0m | \u001b[95m 0.7334  \u001b[0m | \u001b[95m 0.2686  \u001b[0m | \u001b[95m 0.02929 \u001b[0m | \u001b[95m 859.5   \u001b[0m | \u001b[95m 480.1   \u001b[0m | \u001b[95m 7.781   \u001b[0m | \u001b[95m 31.96   \u001b[0m | \u001b[95m 0.5142  \u001b[0m |\n",
      "| \u001b[0m 5       \u001b[0m | \u001b[0m 0.7231  \u001b[0m | \u001b[0m 0.6536  \u001b[0m | \u001b[0m 0.00474 \u001b[0m | \u001b[0m 1.294e+0\u001b[0m | \u001b[0m 259.6   \u001b[0m | \u001b[0m 2.02    \u001b[0m | \u001b[0m 114.4   \u001b[0m | \u001b[0m 0.9656  \u001b[0m |\n",
      "| \u001b[0m 6       \u001b[0m | \u001b[0m 0.724   \u001b[0m | \u001b[0m 0.5458  \u001b[0m | \u001b[0m 0.02488 \u001b[0m | \u001b[0m 207.8   \u001b[0m | \u001b[0m 148.5   \u001b[0m | \u001b[0m 4.362   \u001b[0m | \u001b[0m 23.66   \u001b[0m | \u001b[0m 0.02236 \u001b[0m |\n",
      "| \u001b[0m 7       \u001b[0m | \u001b[0m 0.7295  \u001b[0m | \u001b[0m 0.2018  \u001b[0m | \u001b[0m 0.01486 \u001b[0m | \u001b[0m 857.3   \u001b[0m | \u001b[0m 479.9   \u001b[0m | \u001b[0m 9.106   \u001b[0m | \u001b[0m 36.6    \u001b[0m | \u001b[0m 0.721   \u001b[0m |\n",
      "| \u001b[0m 8       \u001b[0m | \u001b[0m 0.7262  \u001b[0m | \u001b[0m 0.2912  \u001b[0m | \u001b[0m 0.03147 \u001b[0m | \u001b[0m 211.3   \u001b[0m | \u001b[0m 881.7   \u001b[0m | \u001b[0m 7.693   \u001b[0m | \u001b[0m 10.15   \u001b[0m | \u001b[0m 0.8269  \u001b[0m |\n",
      "| \u001b[95m 9       \u001b[0m | \u001b[95m 0.7372  \u001b[0m | \u001b[95m 0.3009  \u001b[0m | \u001b[95m 0.007092\u001b[0m | \u001b[95m 1.98e+03\u001b[0m | \u001b[95m 197.9   \u001b[0m | \u001b[95m 2.181   \u001b[0m | \u001b[95m 20.94   \u001b[0m | \u001b[95m 0.8421  \u001b[0m |\n",
      "| \u001b[0m 10      \u001b[0m | \u001b[0m 0.7367  \u001b[0m | \u001b[0m 0.3789  \u001b[0m | \u001b[0m 0.01125 \u001b[0m | \u001b[0m 1.321e+0\u001b[0m | \u001b[0m 148.3   \u001b[0m | \u001b[0m 2.401   \u001b[0m | \u001b[0m 13.21   \u001b[0m | \u001b[0m 0.2678  \u001b[0m |\n",
      "| \u001b[0m 11      \u001b[0m | \u001b[0m 0.733   \u001b[0m | \u001b[0m 0.185   \u001b[0m | \u001b[0m 0.03341 \u001b[0m | \u001b[0m 754.0   \u001b[0m | \u001b[0m 888.3   \u001b[0m | \u001b[0m 6.692   \u001b[0m | \u001b[0m 11.0    \u001b[0m | \u001b[0m 0.2081  \u001b[0m |\n",
      "| \u001b[0m 12      \u001b[0m | \u001b[0m 0.7335  \u001b[0m | \u001b[0m 0.7121  \u001b[0m | \u001b[0m 0.02047 \u001b[0m | \u001b[0m 1.996e+0\u001b[0m | \u001b[0m 132.1   \u001b[0m | \u001b[0m 4.139   \u001b[0m | \u001b[0m 19.54   \u001b[0m | \u001b[0m 0.9292  \u001b[0m |\n"
     ]
    },
    {
     "ename": "KeyboardInterrupt",
     "evalue": "",
     "output_type": "error",
     "traceback": [
      "\u001b[0;31m---------------------------------------------------------------------------\u001b[0m",
      "\u001b[0;31mKeyError\u001b[0m                                  Traceback (most recent call last)",
      "\u001b[0;32m~/anaconda3/lib/python3.7/site-packages/bayes_opt/target_space.py\u001b[0m in \u001b[0;36mprobe\u001b[0;34m(self, params)\u001b[0m\n\u001b[1;32m    190\u001b[0m         \u001b[0;32mtry\u001b[0m\u001b[0;34m:\u001b[0m\u001b[0;34m\u001b[0m\u001b[0;34m\u001b[0m\u001b[0m\n\u001b[0;32m--> 191\u001b[0;31m             \u001b[0mtarget\u001b[0m \u001b[0;34m=\u001b[0m \u001b[0mself\u001b[0m\u001b[0;34m.\u001b[0m\u001b[0m_cache\u001b[0m\u001b[0;34m[\u001b[0m\u001b[0m_hashable\u001b[0m\u001b[0;34m(\u001b[0m\u001b[0mx\u001b[0m\u001b[0;34m)\u001b[0m\u001b[0;34m]\u001b[0m\u001b[0;34m\u001b[0m\u001b[0;34m\u001b[0m\u001b[0m\n\u001b[0m\u001b[1;32m    192\u001b[0m         \u001b[0;32mexcept\u001b[0m \u001b[0mKeyError\u001b[0m\u001b[0;34m:\u001b[0m\u001b[0;34m\u001b[0m\u001b[0;34m\u001b[0m\u001b[0m\n",
      "\u001b[0;31mKeyError\u001b[0m: (0.461700744307853, 0.07084679284653865, 1984.3849101102212, 891.172997740351, 1.5783147719604314, 15.522829603605892, 0.3714133234778705)",
      "\nDuring handling of the above exception, another exception occurred:\n",
      "\u001b[0;31mKeyboardInterrupt\u001b[0m                         Traceback (most recent call last)",
      "\u001b[0;32m<ipython-input-74-4b647e8752df>\u001b[0m in \u001b[0;36m<module>\u001b[0;34m\u001b[0m\n\u001b[1;32m     13\u001b[0m     \u001b[0mrandom_state\u001b[0m\u001b[0;34m=\u001b[0m\u001b[0;36m42\u001b[0m\u001b[0;34m\u001b[0m\u001b[0;34m\u001b[0m\u001b[0m\n\u001b[1;32m     14\u001b[0m )\n\u001b[0;32m---> 15\u001b[0;31m \u001b[0mlgbBO\u001b[0m\u001b[0;34m.\u001b[0m\u001b[0mmaximize\u001b[0m\u001b[0;34m(\u001b[0m\u001b[0minit_points\u001b[0m\u001b[0;34m=\u001b[0m\u001b[0;36m5\u001b[0m\u001b[0;34m,\u001b[0m \u001b[0mn_iter\u001b[0m\u001b[0;34m=\u001b[0m\u001b[0;36m30\u001b[0m\u001b[0;34m)\u001b[0m\u001b[0;34m\u001b[0m\u001b[0;34m\u001b[0m\u001b[0m\n\u001b[0m",
      "\u001b[0;32m~/anaconda3/lib/python3.7/site-packages/bayes_opt/bayesian_optimization.py\u001b[0m in \u001b[0;36mmaximize\u001b[0;34m(self, init_points, n_iter, acq, kappa, xi, **gp_params)\u001b[0m\n\u001b[1;32m    172\u001b[0m                 \u001b[0miteration\u001b[0m \u001b[0;34m+=\u001b[0m \u001b[0;36m1\u001b[0m\u001b[0;34m\u001b[0m\u001b[0;34m\u001b[0m\u001b[0m\n\u001b[1;32m    173\u001b[0m \u001b[0;34m\u001b[0m\u001b[0m\n\u001b[0;32m--> 174\u001b[0;31m             \u001b[0mself\u001b[0m\u001b[0;34m.\u001b[0m\u001b[0mprobe\u001b[0m\u001b[0;34m(\u001b[0m\u001b[0mx_probe\u001b[0m\u001b[0;34m,\u001b[0m \u001b[0mlazy\u001b[0m\u001b[0;34m=\u001b[0m\u001b[0;32mFalse\u001b[0m\u001b[0;34m)\u001b[0m\u001b[0;34m\u001b[0m\u001b[0;34m\u001b[0m\u001b[0m\n\u001b[0m\u001b[1;32m    175\u001b[0m \u001b[0;34m\u001b[0m\u001b[0m\n\u001b[1;32m    176\u001b[0m         \u001b[0mself\u001b[0m\u001b[0;34m.\u001b[0m\u001b[0mdispatch\u001b[0m\u001b[0;34m(\u001b[0m\u001b[0mEvents\u001b[0m\u001b[0;34m.\u001b[0m\u001b[0mOPTIMIZATION_END\u001b[0m\u001b[0;34m)\u001b[0m\u001b[0;34m\u001b[0m\u001b[0;34m\u001b[0m\u001b[0m\n",
      "\u001b[0;32m~/anaconda3/lib/python3.7/site-packages/bayes_opt/bayesian_optimization.py\u001b[0m in \u001b[0;36mprobe\u001b[0;34m(self, params, lazy)\u001b[0m\n\u001b[1;32m    110\u001b[0m             \u001b[0mself\u001b[0m\u001b[0;34m.\u001b[0m\u001b[0m_queue\u001b[0m\u001b[0;34m.\u001b[0m\u001b[0madd\u001b[0m\u001b[0;34m(\u001b[0m\u001b[0mparams\u001b[0m\u001b[0;34m)\u001b[0m\u001b[0;34m\u001b[0m\u001b[0;34m\u001b[0m\u001b[0m\n\u001b[1;32m    111\u001b[0m         \u001b[0;32melse\u001b[0m\u001b[0;34m:\u001b[0m\u001b[0;34m\u001b[0m\u001b[0;34m\u001b[0m\u001b[0m\n\u001b[0;32m--> 112\u001b[0;31m             \u001b[0mself\u001b[0m\u001b[0;34m.\u001b[0m\u001b[0m_space\u001b[0m\u001b[0;34m.\u001b[0m\u001b[0mprobe\u001b[0m\u001b[0;34m(\u001b[0m\u001b[0mparams\u001b[0m\u001b[0;34m)\u001b[0m\u001b[0;34m\u001b[0m\u001b[0;34m\u001b[0m\u001b[0m\n\u001b[0m\u001b[1;32m    113\u001b[0m             \u001b[0mself\u001b[0m\u001b[0;34m.\u001b[0m\u001b[0mdispatch\u001b[0m\u001b[0;34m(\u001b[0m\u001b[0mEvents\u001b[0m\u001b[0;34m.\u001b[0m\u001b[0mOPTIMIZATION_STEP\u001b[0m\u001b[0;34m)\u001b[0m\u001b[0;34m\u001b[0m\u001b[0;34m\u001b[0m\u001b[0m\n\u001b[1;32m    114\u001b[0m \u001b[0;34m\u001b[0m\u001b[0m\n",
      "\u001b[0;32m~/anaconda3/lib/python3.7/site-packages/bayes_opt/target_space.py\u001b[0m in \u001b[0;36mprobe\u001b[0;34m(self, params)\u001b[0m\n\u001b[1;32m    192\u001b[0m         \u001b[0;32mexcept\u001b[0m \u001b[0mKeyError\u001b[0m\u001b[0;34m:\u001b[0m\u001b[0;34m\u001b[0m\u001b[0;34m\u001b[0m\u001b[0m\n\u001b[1;32m    193\u001b[0m             \u001b[0mparams\u001b[0m \u001b[0;34m=\u001b[0m \u001b[0mdict\u001b[0m\u001b[0;34m(\u001b[0m\u001b[0mzip\u001b[0m\u001b[0;34m(\u001b[0m\u001b[0mself\u001b[0m\u001b[0;34m.\u001b[0m\u001b[0m_keys\u001b[0m\u001b[0;34m,\u001b[0m \u001b[0mx\u001b[0m\u001b[0;34m)\u001b[0m\u001b[0;34m)\u001b[0m\u001b[0;34m\u001b[0m\u001b[0;34m\u001b[0m\u001b[0m\n\u001b[0;32m--> 194\u001b[0;31m             \u001b[0mtarget\u001b[0m \u001b[0;34m=\u001b[0m \u001b[0mself\u001b[0m\u001b[0;34m.\u001b[0m\u001b[0mtarget_func\u001b[0m\u001b[0;34m(\u001b[0m\u001b[0;34m**\u001b[0m\u001b[0mparams\u001b[0m\u001b[0;34m)\u001b[0m\u001b[0;34m\u001b[0m\u001b[0;34m\u001b[0m\u001b[0m\n\u001b[0m\u001b[1;32m    195\u001b[0m             \u001b[0mself\u001b[0m\u001b[0;34m.\u001b[0m\u001b[0mregister\u001b[0m\u001b[0;34m(\u001b[0m\u001b[0mx\u001b[0m\u001b[0;34m,\u001b[0m \u001b[0mtarget\u001b[0m\u001b[0;34m)\u001b[0m\u001b[0;34m\u001b[0m\u001b[0;34m\u001b[0m\u001b[0m\n\u001b[1;32m    196\u001b[0m         \u001b[0;32mreturn\u001b[0m \u001b[0mtarget\u001b[0m\u001b[0;34m\u001b[0m\u001b[0;34m\u001b[0m\u001b[0m\n",
      "\u001b[0;32m<ipython-input-51-4cf01855e25f>\u001b[0m in \u001b[0;36mlgb_cv\u001b[0;34m(num_leaves, subsample, learning_rate, n_estimators, colsample_bytree, reg_alpha, reg_lambda, x_data, y_data, n_splits, output)\u001b[0m\n\u001b[1;32m     18\u001b[0m         )\n\u001b[1;32m     19\u001b[0m \u001b[0;34m\u001b[0m\u001b[0m\n\u001b[0;32m---> 20\u001b[0;31m         \u001b[0mmodel\u001b[0m\u001b[0;34m.\u001b[0m\u001b[0mfit\u001b[0m\u001b[0;34m(\u001b[0m\u001b[0mx_train\u001b[0m\u001b[0;34m,\u001b[0m \u001b[0my_train\u001b[0m\u001b[0;34m)\u001b[0m\u001b[0;34m\u001b[0m\u001b[0;34m\u001b[0m\u001b[0m\n\u001b[0m\u001b[1;32m     21\u001b[0m         \u001b[0mmodels\u001b[0m\u001b[0;34m.\u001b[0m\u001b[0mappend\u001b[0m\u001b[0;34m(\u001b[0m\u001b[0mmodel\u001b[0m\u001b[0;34m)\u001b[0m\u001b[0;34m\u001b[0m\u001b[0;34m\u001b[0m\u001b[0m\n\u001b[1;32m     22\u001b[0m \u001b[0;34m\u001b[0m\u001b[0m\n",
      "\u001b[0;32m~/anaconda3/lib/python3.7/site-packages/lightgbm/sklearn.py\u001b[0m in \u001b[0;36mfit\u001b[0;34m(self, X, y, sample_weight, init_score, eval_set, eval_names, eval_sample_weight, eval_class_weight, eval_init_score, eval_metric, early_stopping_rounds, verbose, feature_name, categorical_feature, callbacks)\u001b[0m\n\u001b[1;32m    803\u001b[0m                                         \u001b[0mverbose\u001b[0m\u001b[0;34m=\u001b[0m\u001b[0mverbose\u001b[0m\u001b[0;34m,\u001b[0m \u001b[0mfeature_name\u001b[0m\u001b[0;34m=\u001b[0m\u001b[0mfeature_name\u001b[0m\u001b[0;34m,\u001b[0m\u001b[0;34m\u001b[0m\u001b[0;34m\u001b[0m\u001b[0m\n\u001b[1;32m    804\u001b[0m                                         \u001b[0mcategorical_feature\u001b[0m\u001b[0;34m=\u001b[0m\u001b[0mcategorical_feature\u001b[0m\u001b[0;34m,\u001b[0m\u001b[0;34m\u001b[0m\u001b[0;34m\u001b[0m\u001b[0m\n\u001b[0;32m--> 805\u001b[0;31m                                         callbacks=callbacks)\n\u001b[0m\u001b[1;32m    806\u001b[0m         \u001b[0;32mreturn\u001b[0m \u001b[0mself\u001b[0m\u001b[0;34m\u001b[0m\u001b[0;34m\u001b[0m\u001b[0m\n\u001b[1;32m    807\u001b[0m \u001b[0;34m\u001b[0m\u001b[0m\n",
      "\u001b[0;32m~/anaconda3/lib/python3.7/site-packages/lightgbm/sklearn.py\u001b[0m in \u001b[0;36mfit\u001b[0;34m(self, X, y, sample_weight, init_score, group, eval_set, eval_names, eval_sample_weight, eval_class_weight, eval_init_score, eval_group, eval_metric, early_stopping_rounds, verbose, feature_name, categorical_feature, callbacks)\u001b[0m\n\u001b[1;32m    598\u001b[0m                               \u001b[0mverbose_eval\u001b[0m\u001b[0;34m=\u001b[0m\u001b[0mverbose\u001b[0m\u001b[0;34m,\u001b[0m \u001b[0mfeature_name\u001b[0m\u001b[0;34m=\u001b[0m\u001b[0mfeature_name\u001b[0m\u001b[0;34m,\u001b[0m\u001b[0;34m\u001b[0m\u001b[0;34m\u001b[0m\u001b[0m\n\u001b[1;32m    599\u001b[0m                               \u001b[0mcategorical_feature\u001b[0m\u001b[0;34m=\u001b[0m\u001b[0mcategorical_feature\u001b[0m\u001b[0;34m,\u001b[0m\u001b[0;34m\u001b[0m\u001b[0;34m\u001b[0m\u001b[0m\n\u001b[0;32m--> 600\u001b[0;31m                               callbacks=callbacks)\n\u001b[0m\u001b[1;32m    601\u001b[0m \u001b[0;34m\u001b[0m\u001b[0m\n\u001b[1;32m    602\u001b[0m         \u001b[0;32mif\u001b[0m \u001b[0mevals_result\u001b[0m\u001b[0;34m:\u001b[0m\u001b[0;34m\u001b[0m\u001b[0;34m\u001b[0m\u001b[0m\n",
      "\u001b[0;32m~/anaconda3/lib/python3.7/site-packages/lightgbm/engine.py\u001b[0m in \u001b[0;36mtrain\u001b[0;34m(params, train_set, num_boost_round, valid_sets, valid_names, fobj, feval, init_model, feature_name, categorical_feature, early_stopping_rounds, evals_result, verbose_eval, learning_rates, keep_training_booster, callbacks)\u001b[0m\n\u001b[1;32m    247\u001b[0m                                     evaluation_result_list=None))\n\u001b[1;32m    248\u001b[0m \u001b[0;34m\u001b[0m\u001b[0m\n\u001b[0;32m--> 249\u001b[0;31m         \u001b[0mbooster\u001b[0m\u001b[0;34m.\u001b[0m\u001b[0mupdate\u001b[0m\u001b[0;34m(\u001b[0m\u001b[0mfobj\u001b[0m\u001b[0;34m=\u001b[0m\u001b[0mfobj\u001b[0m\u001b[0;34m)\u001b[0m\u001b[0;34m\u001b[0m\u001b[0;34m\u001b[0m\u001b[0m\n\u001b[0m\u001b[1;32m    250\u001b[0m \u001b[0;34m\u001b[0m\u001b[0m\n\u001b[1;32m    251\u001b[0m         \u001b[0mevaluation_result_list\u001b[0m \u001b[0;34m=\u001b[0m \u001b[0;34m[\u001b[0m\u001b[0;34m]\u001b[0m\u001b[0;34m\u001b[0m\u001b[0;34m\u001b[0m\u001b[0m\n",
      "\u001b[0;32m~/anaconda3/lib/python3.7/site-packages/lightgbm/basic.py\u001b[0m in \u001b[0;36mupdate\u001b[0;34m(self, train_set, fobj)\u001b[0m\n\u001b[1;32m   1974\u001b[0m             _safe_call(_LIB.LGBM_BoosterUpdateOneIter(\n\u001b[1;32m   1975\u001b[0m                 \u001b[0mself\u001b[0m\u001b[0;34m.\u001b[0m\u001b[0mhandle\u001b[0m\u001b[0;34m,\u001b[0m\u001b[0;34m\u001b[0m\u001b[0;34m\u001b[0m\u001b[0m\n\u001b[0;32m-> 1976\u001b[0;31m                 ctypes.byref(is_finished)))\n\u001b[0m\u001b[1;32m   1977\u001b[0m             \u001b[0mself\u001b[0m\u001b[0;34m.\u001b[0m\u001b[0m__is_predicted_cur_iter\u001b[0m \u001b[0;34m=\u001b[0m \u001b[0;34m[\u001b[0m\u001b[0;32mFalse\u001b[0m \u001b[0;32mfor\u001b[0m \u001b[0m_\u001b[0m \u001b[0;32min\u001b[0m \u001b[0mrange_\u001b[0m\u001b[0;34m(\u001b[0m\u001b[0mself\u001b[0m\u001b[0;34m.\u001b[0m\u001b[0m__num_dataset\u001b[0m\u001b[0;34m)\u001b[0m\u001b[0;34m]\u001b[0m\u001b[0;34m\u001b[0m\u001b[0;34m\u001b[0m\u001b[0m\n\u001b[1;32m   1978\u001b[0m             \u001b[0;32mreturn\u001b[0m \u001b[0mis_finished\u001b[0m\u001b[0;34m.\u001b[0m\u001b[0mvalue\u001b[0m \u001b[0;34m==\u001b[0m \u001b[0;36m1\u001b[0m\u001b[0;34m\u001b[0m\u001b[0;34m\u001b[0m\u001b[0m\n",
      "\u001b[0;31mKeyboardInterrupt\u001b[0m: "
     ]
    }
   ],
   "source": [
    "func_fixed = partial(lgb_cv, x_data=df_train, y_data=y_train, n_splits=5, output='score') \n",
    "lgbBO = BayesianOptimization(\n",
    "    func_fixed, \n",
    "    {\n",
    "        'num_leaves': (128, 900),\n",
    "        'subsample': (0, 1),             # subsample,        범위(0~1)\n",
    "        'learning_rate': (0.0001, 0.1),\n",
    "        'n_estimators': (200, 2000),\n",
    "        'colsample_bytree': (0.15, 1),\n",
    "        'reg_alpha': (1.5, 9.5), \n",
    "        'reg_lambda': (10, 120)\n",
    "    }, \n",
    "    random_state=42\n",
    ")\n",
    "lgbBO.maximize(init_points=5, n_iter=30)"
   ]
  },
  {
   "cell_type": "code",
   "execution_count": 76,
   "metadata": {},
   "outputs": [
    {
     "data": {
      "text/plain": [
       "LGBMClassifier(boosting_type='gbdt', class_weight=None, colsample_bytree=0.3009,\n",
       "               importance_type='split', learning_rate=0.007092, max_depth=-1,\n",
       "               min_child_samples=20, min_child_weight=0.001, min_split_gain=0.0,\n",
       "               n_estimators=1980, n_jobs=-1, num_leaves=197, objective=None,\n",
       "               random_state=None, reg_alpha=2.181, reg_lambda=20.94,\n",
       "               silent=True, subsample=0.8421, subsample_for_bin=200000,\n",
       "               subsample_freq=0)"
      ]
     },
     "execution_count": 76,
     "metadata": {},
     "output_type": "execute_result"
    }
   ],
   "source": [
    "lgbm = lgb.LGBMClassifier(\n",
    "            colsample_bytree = 0.3009,\n",
    "            num_leaves = 197, \n",
    "            learning_rate = 0.007092, \n",
    "            n_estimators = 1980, \n",
    "            reg_alpha = 2.181, \n",
    "            reg_lambda = 20.94,\n",
    "            subsample = 0.8421\n",
    "        )\n",
    "        \n",
    "lgbm.fit(df_train, y_train)"
   ]
  },
  {
   "cell_type": "code",
   "execution_count": 77,
   "metadata": {},
   "outputs": [],
   "source": [
    "y_pred = lgbm.predict_proba(df_test)"
   ]
  },
  {
   "cell_type": "code",
   "execution_count": 79,
   "metadata": {},
   "outputs": [
    {
     "data": {
      "text/plain": [
       "array([[0.62151188, 0.37848812],\n",
       "       [0.38146142, 0.61853858],\n",
       "       [0.60987578, 0.39012422],\n",
       "       ...,\n",
       "       [0.3409767 , 0.6590233 ],\n",
       "       [0.37825871, 0.62174129],\n",
       "       [0.64012659, 0.35987341]])"
      ]
     },
     "execution_count": 79,
     "metadata": {},
     "output_type": "execute_result"
    }
   ],
   "source": [
    "y_pred"
   ]
  },
  {
   "cell_type": "code",
   "execution_count": 80,
   "metadata": {},
   "outputs": [
    {
     "data": {
      "text/plain": [
       "array([[0.37848812],\n",
       "       [0.61853858],\n",
       "       [0.39012422],\n",
       "       ...,\n",
       "       [0.6590233 ],\n",
       "       [0.62174129],\n",
       "       [0.35987341]])"
      ]
     },
     "execution_count": 80,
     "metadata": {},
     "output_type": "execute_result"
    }
   ],
   "source": []
  },
  {
   "cell_type": "code",
   "execution_count": 78,
   "metadata": {},
   "outputs": [],
   "source": [
    "sample_submission=pd.read_csv('sample_submission.csv',encoding=\"utf-8\") "
   ]
  },
  {
   "cell_type": "code",
   "execution_count": 81,
   "metadata": {},
   "outputs": [],
   "source": [
    "sample_submission[\"winner\"] = y_pred[:,1:]\n",
    "sample_submission.to_csv(\"sel_rc_event_lgbm_submission33.csv\",encoding=\"utf-8\",index=False)"
   ]
  },
  {
   "cell_type": "code",
   "execution_count": null,
   "metadata": {},
   "outputs": [],
   "source": []
  }
 ],
 "metadata": {
  "kernelspec": {
   "display_name": "Python 3",
   "language": "python",
   "name": "python3"
  },
  "language_info": {
   "codemirror_mode": {
    "name": "ipython",
    "version": 3
   },
   "file_extension": ".py",
   "mimetype": "text/x-python",
   "name": "python",
   "nbconvert_exporter": "python",
   "pygments_lexer": "ipython3",
   "version": "3.7.6"
  }
 },
 "nbformat": 4,
 "nbformat_minor": 4
}
