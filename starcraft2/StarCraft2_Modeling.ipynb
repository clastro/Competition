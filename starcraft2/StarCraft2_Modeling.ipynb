{
 "cells": [
  {
   "cell_type": "code",
   "execution_count": 1,
   "metadata": {},
   "outputs": [],
   "source": [
    "import pandas as pd\n",
    "import numpy as np"
   ]
  },
  {
   "cell_type": "code",
   "execution_count": 2,
   "metadata": {},
   "outputs": [],
   "source": [
    "df_train = pd.read_csv(\"train_base_inform.csv\",encoding=\"utf-8\")\n",
    "df_test = pd.read_csv(\"test_base_inform.csv\",encoding=\"utf-8\")"
   ]
  },
  {
   "cell_type": "code",
   "execution_count": 3,
   "metadata": {},
   "outputs": [],
   "source": [
    "df_train2 = pd.read_csv(\"rightclick_train.csv\",encoding=\"utf-8\")\n",
    "df_test2 = pd.read_csv(\"rightclick_test.csv\",encoding=\"utf-8\")"
   ]
  },
  {
   "cell_type": "code",
   "execution_count": 4,
   "metadata": {},
   "outputs": [
    {
     "name": "stderr",
     "output_type": "stream",
     "text": [
      "/home/realna/anaconda3/lib/python3.7/site-packages/IPython/core/interactiveshell.py:3063: DtypeWarning: Columns (2,4) have mixed types.Specify dtype option on import or set low_memory=False.\n",
      "  interactivity=interactivity, compiler=compiler, result=result)\n",
      "/home/realna/anaconda3/lib/python3.7/site-packages/IPython/core/interactiveshell.py:3063: DtypeWarning: Columns (2,6) have mixed types.Specify dtype option on import or set low_memory=False.\n",
      "  interactivity=interactivity, compiler=compiler, result=result)\n",
      "/home/realna/anaconda3/lib/python3.7/site-packages/IPython/core/interactiveshell.py:3063: DtypeWarning: Columns (1,3) have mixed types.Specify dtype option on import or set low_memory=False.\n",
      "  interactivity=interactivity, compiler=compiler, result=result)\n"
     ]
    }
   ],
   "source": [
    "df_train3 = pd.read_csv(\"select_train.csv\",encoding=\"utf-8\")\n",
    "df_test3 = pd.read_csv(\"select_test.csv\",encoding=\"utf-8\")\n",
    "df_train4 = pd.read_csv(\"traindata_200313.csv\",encoding=\"utf-8\")\n",
    "df_test4 = pd.read_csv(\"testdata_200313.csv\",encoding=\"utf-8\")"
   ]
  },
  {
   "cell_type": "code",
   "execution_count": 5,
   "metadata": {},
   "outputs": [],
   "source": [
    "df_train4.drop([\"p0_species\",\"p1_species\"],1,inplace=True)\n",
    "df_train3.drop([\"p0_species\",\"p1_species\"],1,inplace=True)"
   ]
  },
  {
   "cell_type": "code",
   "execution_count": 7,
   "metadata": {},
   "outputs": [],
   "source": [
    "df_train = pd.merge(df_train, df_train2, on='game_id', how='outer')\n",
    "df_test = pd.merge(df_test, df_test2, on='game_id', how='outer')"
   ]
  },
  {
   "cell_type": "code",
   "execution_count": 8,
   "metadata": {},
   "outputs": [],
   "source": [
    "df_test4[\"game_id\"] = df_test[\"game_id\"] #index로 인해 누락"
   ]
  },
  {
   "cell_type": "code",
   "execution_count": 9,
   "metadata": {},
   "outputs": [],
   "source": [
    "df_train = pd.merge(df_train, df_train3, on='game_id', how='outer')\n",
    "df_test = pd.merge(df_test, df_test3, on='game_id', how='outer')"
   ]
  },
  {
   "cell_type": "code",
   "execution_count": 10,
   "metadata": {},
   "outputs": [],
   "source": [
    "df_train = pd.merge(df_train, df_train4, on='game_id', how='outer')\n",
    "df_test = pd.merge(df_test, df_test4, on='game_id', how='outer')"
   ]
  },
  {
   "cell_type": "code",
   "execution_count": 11,
   "metadata": {},
   "outputs": [],
   "source": [
    "y_train = pd.read_csv(\"y_train.csv\",encoding=\"utf-8\")\n",
    "y_train = y_train[\"winner\"]"
   ]
  },
  {
   "cell_type": "code",
   "execution_count": 12,
   "metadata": {},
   "outputs": [],
   "source": [
    "df_train.drop([\"game_id\"],1,inplace=True)\n",
    "df_test.drop([\"game_id\"],1,inplace=True)"
   ]
  },
  {
   "cell_type": "code",
   "execution_count": 13,
   "metadata": {},
   "outputs": [],
   "source": [
    "common_columns = list(set(df_train.columns) & set(df_test.columns))"
   ]
  },
  {
   "cell_type": "code",
   "execution_count": 14,
   "metadata": {},
   "outputs": [
    {
     "data": {
      "text/plain": [
       "1334"
      ]
     },
     "execution_count": 14,
     "metadata": {},
     "output_type": "execute_result"
    }
   ],
   "source": [
    "len(common_columns)"
   ]
  },
  {
   "cell_type": "code",
   "execution_count": 15,
   "metadata": {},
   "outputs": [],
   "source": [
    "df_train = df_train[common_columns]\n",
    "df_test = df_test[common_columns]"
   ]
  },
  {
   "cell_type": "code",
   "execution_count": 20,
   "metadata": {},
   "outputs": [],
   "source": [
    "df_train[\"player0_species\"] = df_train[\"player0_species\"].map({'T':1,'P':2,'Z':3}) #종족 변수를 숫자로 변경\n",
    "df_train[\"player1_species\"] = df_train[\"player1_species\"].map({'T':1,'P':2,'Z':3})"
   ]
  },
  {
   "cell_type": "code",
   "execution_count": 21,
   "metadata": {},
   "outputs": [],
   "source": [
    "df_test[\"player0_species\"] = df_test[\"player0_species\"].map({'T':1,'P':2,'Z':3}) #종족 변수를 숫자로 변경\n",
    "df_test[\"player1_species\"] = df_test[\"player1_species\"].map({'T':1,'P':2,'Z':3})"
   ]
  },
  {
   "cell_type": "code",
   "execution_count": 22,
   "metadata": {},
   "outputs": [],
   "source": [
    "df_train = df_train.fillna(0)\n",
    "df_test = df_test.fillna(0)"
   ]
  },
  {
   "cell_type": "code",
   "execution_count": 17,
   "metadata": {},
   "outputs": [],
   "source": [
    "from sklearn.metrics import roc_auc_score   # AUC 스코어 계산\n",
    "from sklearn.model_selection import KFold   # K-fold CV    \n",
    "from bayes_opt import BayesianOptimization  # 베이지안 최적화 라이브러리  \n",
    "from functools import partial               # 함수 변수 고정\n",
    "import lightgbm as lgb"
   ]
  },
  {
   "cell_type": "code",
   "execution_count": 18,
   "metadata": {},
   "outputs": [],
   "source": [
    "def lgb_cv(num_leaves,subsample, learning_rate, n_estimators, colsample_bytree, reg_alpha, reg_lambda,\n",
    "           x_data=None, y_data=None, n_splits=5, output='score'):\n",
    "    score = 0\n",
    "    kf = KFold(n_splits=n_splits)\n",
    "    models = []\n",
    "    for train_index, valid_index in kf.split(x_data):\n",
    "        x_train, y_train = x_data.iloc[train_index], y_data[train_index]\n",
    "        x_valid, y_valid = x_data.iloc[valid_index], y_data[valid_index]\n",
    "        \n",
    "        model = lgb.LGBMClassifier(\n",
    "            num_leaves = int(num_leaves), \n",
    "            subsample = np.clip(subsample, 0, 1),\n",
    "            learning_rate = learning_rate, \n",
    "            n_estimators = int(n_estimators), \n",
    "            colsample_bytree = np.clip(colsample_bytree, 0, 1), \n",
    "            reg_alpha = reg_alpha, \n",
    "            reg_lambda = reg_lambda\n",
    "        )\n",
    "        \n",
    "        model.fit(x_train, y_train)\n",
    "        models.append(model)\n",
    "        \n",
    "        pred = model.predict_proba(x_valid)[:, 1]\n",
    "        true = y_valid\n",
    "        score += roc_auc_score(true, pred)/n_splits\n",
    "    \n",
    "    if output == 'score':\n",
    "        return score\n",
    "    if output == 'model':\n",
    "        return models"
   ]
  },
  {
   "cell_type": "code",
   "execution_count": 39,
   "metadata": {},
   "outputs": [
    {
     "name": "stdout",
     "output_type": "stream",
     "text": [
      "|   iter    |  target   | colsam... | learni... | n_esti... | num_le... | reg_alpha | reg_la... | subsample |\n",
      "-------------------------------------------------------------------------------------------------------------\n",
      "| \u001b[0m 1       \u001b[0m | \u001b[0m 0.7261  \u001b[0m | \u001b[0m 0.4684  \u001b[0m | \u001b[0m 0.09508 \u001b[0m | \u001b[0m 1.518e+0\u001b[0m | \u001b[0m 590.2   \u001b[0m | \u001b[0m 2.748   \u001b[0m | \u001b[0m 27.16   \u001b[0m | \u001b[0m 0.05808 \u001b[0m |\n",
      "| \u001b[95m 2       \u001b[0m | \u001b[95m 0.7276  \u001b[0m | \u001b[95m 0.8862  \u001b[0m | \u001b[95m 0.06015 \u001b[0m | \u001b[95m 1.475e+0\u001b[0m | \u001b[95m 143.9   \u001b[0m | \u001b[95m 9.259   \u001b[0m | \u001b[95m 101.6   \u001b[0m | \u001b[95m 0.2123  \u001b[0m |\n",
      "| \u001b[95m 3       \u001b[0m | \u001b[95m 0.733   \u001b[0m | \u001b[95m 0.3046  \u001b[0m | \u001b[95m 0.01842 \u001b[0m | \u001b[95m 747.6   \u001b[0m | \u001b[95m 533.1   \u001b[0m | \u001b[95m 4.956   \u001b[0m | \u001b[95m 42.04   \u001b[0m | \u001b[95m 0.6119  \u001b[0m |\n",
      "| \u001b[0m 4       \u001b[0m | \u001b[0m 0.7325  \u001b[0m | \u001b[0m 0.2686  \u001b[0m | \u001b[0m 0.02929 \u001b[0m | \u001b[0m 859.5   \u001b[0m | \u001b[0m 480.1   \u001b[0m | \u001b[0m 7.781   \u001b[0m | \u001b[0m 31.96   \u001b[0m | \u001b[0m 0.5142  \u001b[0m |\n",
      "| \u001b[0m 5       \u001b[0m | \u001b[0m 0.7219  \u001b[0m | \u001b[0m 0.6536  \u001b[0m | \u001b[0m 0.00474 \u001b[0m | \u001b[0m 1.294e+0\u001b[0m | \u001b[0m 259.6   \u001b[0m | \u001b[0m 2.02    \u001b[0m | \u001b[0m 114.4   \u001b[0m | \u001b[0m 0.9656  \u001b[0m |\n",
      "| \u001b[0m 6       \u001b[0m | \u001b[0m 0.7229  \u001b[0m | \u001b[0m 0.5458  \u001b[0m | \u001b[0m 0.02488 \u001b[0m | \u001b[0m 207.8   \u001b[0m | \u001b[0m 148.5   \u001b[0m | \u001b[0m 4.362   \u001b[0m | \u001b[0m 23.66   \u001b[0m | \u001b[0m 0.02236 \u001b[0m |\n",
      "| \u001b[0m 7       \u001b[0m | \u001b[0m 0.7254  \u001b[0m | \u001b[0m 0.7744  \u001b[0m | \u001b[0m 0.02507 \u001b[0m | \u001b[0m 229.4   \u001b[0m | \u001b[0m 895.6   \u001b[0m | \u001b[0m 5.277   \u001b[0m | \u001b[0m 13.84   \u001b[0m | \u001b[0m 0.4549  \u001b[0m |\n",
      "| \u001b[0m 8       \u001b[0m | \u001b[0m 0.724   \u001b[0m | \u001b[0m 0.189   \u001b[0m | \u001b[0m 0.08919 \u001b[0m | \u001b[0m 1.996e+0\u001b[0m | \u001b[0m 133.4   \u001b[0m | \u001b[0m 4.289   \u001b[0m | \u001b[0m 12.06   \u001b[0m | \u001b[0m 0.9121  \u001b[0m |\n",
      "| \u001b[0m 9       \u001b[0m | \u001b[0m 0.7259  \u001b[0m | \u001b[0m 0.7085  \u001b[0m | \u001b[0m 0.06697 \u001b[0m | \u001b[0m 1.035e+0\u001b[0m | \u001b[0m 132.9   \u001b[0m | \u001b[0m 6.463   \u001b[0m | \u001b[0m 10.41   \u001b[0m | \u001b[0m 0.4693  \u001b[0m |\n",
      "| \u001b[0m 10      \u001b[0m | \u001b[0m 0.7308  \u001b[0m | \u001b[0m 0.8427  \u001b[0m | \u001b[0m 0.01282 \u001b[0m | \u001b[0m 1.941e+0\u001b[0m | \u001b[0m 875.7   \u001b[0m | \u001b[0m 7.467   \u001b[0m | \u001b[0m 111.1   \u001b[0m | \u001b[0m 0.5901  \u001b[0m |\n",
      "| \u001b[0m 11      \u001b[0m | \u001b[0m 0.717   \u001b[0m | \u001b[0m 0.3776  \u001b[0m | \u001b[0m 0.005349\u001b[0m | \u001b[0m 1.037e+0\u001b[0m | \u001b[0m 891.9   \u001b[0m | \u001b[0m 8.926   \u001b[0m | \u001b[0m 108.0   \u001b[0m | \u001b[0m 0.6764  \u001b[0m |\n",
      "| \u001b[0m 12      \u001b[0m | \u001b[0m 0.7251  \u001b[0m | \u001b[0m 0.9736  \u001b[0m | \u001b[0m 0.04367 \u001b[0m | \u001b[0m 1.991e+0\u001b[0m | \u001b[0m 885.2   \u001b[0m | \u001b[0m 8.084   \u001b[0m | \u001b[0m 21.37   \u001b[0m | \u001b[0m 0.1736  \u001b[0m |\n",
      "| \u001b[0m 13      \u001b[0m | \u001b[0m 0.729   \u001b[0m | \u001b[0m 0.5037  \u001b[0m | \u001b[0m 0.03914 \u001b[0m | \u001b[0m 1.997e+0\u001b[0m | \u001b[0m 389.5   \u001b[0m | \u001b[0m 8.715   \u001b[0m | \u001b[0m 117.1   \u001b[0m | \u001b[0m 0.9892  \u001b[0m |\n",
      "| \u001b[0m 14      \u001b[0m | \u001b[0m 0.7308  \u001b[0m | \u001b[0m 0.1951  \u001b[0m | \u001b[0m 0.05628 \u001b[0m | \u001b[0m 1.476e+0\u001b[0m | \u001b[0m 149.7   \u001b[0m | \u001b[0m 5.473   \u001b[0m | \u001b[0m 112.1   \u001b[0m | \u001b[0m 0.2411  \u001b[0m |\n",
      "| \u001b[0m 15      \u001b[0m | \u001b[0m 0.7052  \u001b[0m | \u001b[0m 0.1749  \u001b[0m | \u001b[0m 0.000836\u001b[0m | \u001b[0m 347.6   \u001b[0m | \u001b[0m 560.6   \u001b[0m | \u001b[0m 1.632   \u001b[0m | \u001b[0m 10.06   \u001b[0m | \u001b[0m 0.2449  \u001b[0m |\n",
      "| \u001b[0m 16      \u001b[0m | \u001b[0m 0.6841  \u001b[0m | \u001b[0m 0.4423  \u001b[0m | \u001b[0m 0.000177\u001b[0m | \u001b[0m 578.4   \u001b[0m | \u001b[0m 137.1   \u001b[0m | \u001b[0m 1.943   \u001b[0m | \u001b[0m 117.1   \u001b[0m | \u001b[0m 0.3298  \u001b[0m |\n",
      "| \u001b[0m 17      \u001b[0m | \u001b[0m 0.7296  \u001b[0m | \u001b[0m 0.865   \u001b[0m | \u001b[0m 0.04271 \u001b[0m | \u001b[0m 751.0   \u001b[0m | \u001b[0m 899.5   \u001b[0m | \u001b[0m 3.011   \u001b[0m | \u001b[0m 19.71   \u001b[0m | \u001b[0m 0.3263  \u001b[0m |\n",
      "| \u001b[0m 18      \u001b[0m | \u001b[0m 0.6704  \u001b[0m | \u001b[0m 0.9033  \u001b[0m | \u001b[0m 0.000612\u001b[0m | \u001b[0m 486.8   \u001b[0m | \u001b[0m 895.2   \u001b[0m | \u001b[0m 1.539   \u001b[0m | \u001b[0m 117.6   \u001b[0m | \u001b[0m 0.03252 \u001b[0m |\n",
      "| \u001b[0m 19      \u001b[0m | \u001b[0m 0.7247  \u001b[0m | \u001b[0m 0.7946  \u001b[0m | \u001b[0m 0.08014 \u001b[0m | \u001b[0m 1.514e+0\u001b[0m | \u001b[0m 897.2   \u001b[0m | \u001b[0m 2.805   \u001b[0m | \u001b[0m 25.56   \u001b[0m | \u001b[0m 0.8584  \u001b[0m |\n",
      "| \u001b[0m 20      \u001b[0m | \u001b[0m 0.7259  \u001b[0m | \u001b[0m 0.7758  \u001b[0m | \u001b[0m 0.06949 \u001b[0m | \u001b[0m 1.975e+0\u001b[0m | \u001b[0m 134.7   \u001b[0m | \u001b[0m 3.225   \u001b[0m | \u001b[0m 118.7   \u001b[0m | \u001b[0m 0.5735  \u001b[0m |\n",
      "| \u001b[0m 21      \u001b[0m | \u001b[0m 0.7283  \u001b[0m | \u001b[0m 0.7696  \u001b[0m | \u001b[0m 0.08393 \u001b[0m | \u001b[0m 203.2   \u001b[0m | \u001b[0m 153.6   \u001b[0m | \u001b[0m 6.737   \u001b[0m | \u001b[0m 31.73   \u001b[0m | \u001b[0m 0.1879  \u001b[0m |\n",
      "| \u001b[0m 22      \u001b[0m | \u001b[0m 0.73    \u001b[0m | \u001b[0m 0.2219  \u001b[0m | \u001b[0m 0.03915 \u001b[0m | \u001b[0m 1.519e+0\u001b[0m | \u001b[0m 594.3   \u001b[0m | \u001b[0m 5.079   \u001b[0m | \u001b[0m 25.66   \u001b[0m | \u001b[0m 0.9763  \u001b[0m |\n",
      "| \u001b[0m 23      \u001b[0m | \u001b[0m 0.7172  \u001b[0m | \u001b[0m 0.8737  \u001b[0m | \u001b[0m 0.03066 \u001b[0m | \u001b[0m 200.0   \u001b[0m | \u001b[0m 350.4   \u001b[0m | \u001b[0m 6.175   \u001b[0m | \u001b[0m 118.5   \u001b[0m | \u001b[0m 0.2933  \u001b[0m |\n",
      "| \u001b[0m 24      \u001b[0m | \u001b[0m 0.7319  \u001b[0m | \u001b[0m 0.5349  \u001b[0m | \u001b[0m 0.0251  \u001b[0m | \u001b[0m 974.4   \u001b[0m | \u001b[0m 748.1   \u001b[0m | \u001b[0m 5.849   \u001b[0m | \u001b[0m 10.51   \u001b[0m | \u001b[0m 0.4103  \u001b[0m |\n",
      "| \u001b[0m 25      \u001b[0m | \u001b[0m 0.7258  \u001b[0m | \u001b[0m 0.8908  \u001b[0m | \u001b[0m 0.05203 \u001b[0m | \u001b[0m 1.772e+0\u001b[0m | \u001b[0m 667.6   \u001b[0m | \u001b[0m 9.448   \u001b[0m | \u001b[0m 101.2   \u001b[0m | \u001b[0m 0.921   \u001b[0m |\n",
      "| \u001b[0m 26      \u001b[0m | \u001b[0m 0.7287  \u001b[0m | \u001b[0m 0.5276  \u001b[0m | \u001b[0m 0.04195 \u001b[0m | \u001b[0m 1.745e+0\u001b[0m | \u001b[0m 319.4   \u001b[0m | \u001b[0m 2.221   \u001b[0m | \u001b[0m 16.85   \u001b[0m | \u001b[0m 0.7235  \u001b[0m |\n",
      "| \u001b[0m 27      \u001b[0m | \u001b[0m 0.7299  \u001b[0m | \u001b[0m 0.2729  \u001b[0m | \u001b[0m 0.0115  \u001b[0m | \u001b[0m 785.8   \u001b[0m | \u001b[0m 672.2   \u001b[0m | \u001b[0m 8.468   \u001b[0m | \u001b[0m 10.67   \u001b[0m | \u001b[0m 0.9795  \u001b[0m |\n",
      "| \u001b[0m 28      \u001b[0m | \u001b[0m 0.7224  \u001b[0m | \u001b[0m 0.9547  \u001b[0m | \u001b[0m 0.09241 \u001b[0m | \u001b[0m 1.215e+0\u001b[0m | \u001b[0m 899.7   \u001b[0m | \u001b[0m 4.608   \u001b[0m | \u001b[0m 17.59   \u001b[0m | \u001b[0m 0.2344  \u001b[0m |\n",
      "| \u001b[0m 29      \u001b[0m | \u001b[0m 0.7298  \u001b[0m | \u001b[0m 0.6988  \u001b[0m | \u001b[0m 0.0574  \u001b[0m | \u001b[0m 1.061e+0\u001b[0m | \u001b[0m 132.6   \u001b[0m | \u001b[0m 4.108   \u001b[0m | \u001b[0m 119.2   \u001b[0m | \u001b[0m 0.4299  \u001b[0m |\n",
      "| \u001b[95m 30      \u001b[0m | \u001b[95m 0.7338  \u001b[0m | \u001b[95m 0.3225  \u001b[0m | \u001b[95m 0.02542 \u001b[0m | \u001b[95m 1.48e+03\u001b[0m | \u001b[95m 148.3   \u001b[0m | \u001b[95m 6.214   \u001b[0m | \u001b[95m 108.9   \u001b[0m | \u001b[95m 0.3473  \u001b[0m |\n",
      "| \u001b[0m 31      \u001b[0m | \u001b[0m 0.7289  \u001b[0m | \u001b[0m 0.6299  \u001b[0m | \u001b[0m 0.0535  \u001b[0m | \u001b[0m 1.731e+0\u001b[0m | \u001b[0m 128.6   \u001b[0m | \u001b[0m 3.89    \u001b[0m | \u001b[0m 115.5   \u001b[0m | \u001b[0m 0.2733  \u001b[0m |\n",
      "| \u001b[0m 32      \u001b[0m | \u001b[0m 0.7264  \u001b[0m | \u001b[0m 0.747   \u001b[0m | \u001b[0m 0.0725  \u001b[0m | \u001b[0m 1.993e+0\u001b[0m | \u001b[0m 590.8   \u001b[0m | \u001b[0m 1.765   \u001b[0m | \u001b[0m 15.6    \u001b[0m | \u001b[0m 0.984   \u001b[0m |\n",
      "| \u001b[0m 33      \u001b[0m | \u001b[0m 0.7232  \u001b[0m | \u001b[0m 0.5175  \u001b[0m | \u001b[0m 0.08831 \u001b[0m | \u001b[0m 898.5   \u001b[0m | \u001b[0m 895.9   \u001b[0m | \u001b[0m 9.087   \u001b[0m | \u001b[0m 10.06   \u001b[0m | \u001b[0m 0.3802  \u001b[0m |\n",
      "| \u001b[0m 34      \u001b[0m | \u001b[0m 0.7317  \u001b[0m | \u001b[0m 0.6067  \u001b[0m | \u001b[0m 0.01151 \u001b[0m | \u001b[0m 1.28e+03\u001b[0m | \u001b[0m 706.1   \u001b[0m | \u001b[0m 2.605   \u001b[0m | \u001b[0m 119.3   \u001b[0m | \u001b[0m 0.4301  \u001b[0m |\n",
      "| \u001b[0m 35      \u001b[0m | \u001b[0m 0.7291  \u001b[0m | \u001b[0m 0.5929  \u001b[0m | \u001b[0m 0.08231 \u001b[0m | \u001b[0m 211.1   \u001b[0m | \u001b[0m 131.2   \u001b[0m | \u001b[0m 7.039   \u001b[0m | \u001b[0m 103.6   \u001b[0m | \u001b[0m 0.9749  \u001b[0m |\n",
      "| \u001b[0m 36      \u001b[0m | \u001b[0m 0.7268  \u001b[0m | \u001b[0m 0.833   \u001b[0m | \u001b[0m 0.09352 \u001b[0m | \u001b[0m 867.8   \u001b[0m | \u001b[0m 506.3   \u001b[0m | \u001b[0m 1.855   \u001b[0m | \u001b[0m 119.1   \u001b[0m | \u001b[0m 0.8041  \u001b[0m |\n",
      "| \u001b[0m 37      \u001b[0m | \u001b[0m 0.7329  \u001b[0m | \u001b[0m 0.1697  \u001b[0m | \u001b[0m 0.04735 \u001b[0m | \u001b[0m 1.608e+0\u001b[0m | \u001b[0m 324.7   \u001b[0m | \u001b[0m 2.066   \u001b[0m | \u001b[0m 119.7   \u001b[0m | \u001b[0m 0.8122  \u001b[0m |\n",
      "| \u001b[0m 38      \u001b[0m | \u001b[0m 0.7288  \u001b[0m | \u001b[0m 0.7594  \u001b[0m | \u001b[0m 0.04916 \u001b[0m | \u001b[0m 1.989e+0\u001b[0m | \u001b[0m 798.7   \u001b[0m | \u001b[0m 2.174   \u001b[0m | \u001b[0m 119.7   \u001b[0m | \u001b[0m 0.642   \u001b[0m |\n",
      "| \u001b[0m 39      \u001b[0m | \u001b[0m 0.7281  \u001b[0m | \u001b[0m 0.547   \u001b[0m | \u001b[0m 0.07361 \u001b[0m | \u001b[0m 1.573e+0\u001b[0m | \u001b[0m 883.4   \u001b[0m | \u001b[0m 2.146   \u001b[0m | \u001b[0m 119.6   \u001b[0m | \u001b[0m 0.8773  \u001b[0m |\n"
     ]
    },
    {
     "ename": "KeyboardInterrupt",
     "evalue": "",
     "output_type": "error",
     "traceback": [
      "\u001b[0;31m---------------------------------------------------------------------------\u001b[0m",
      "\u001b[0;31mKeyError\u001b[0m                                  Traceback (most recent call last)",
      "\u001b[0;32m~/anaconda3/lib/python3.7/site-packages/bayes_opt/target_space.py\u001b[0m in \u001b[0;36mprobe\u001b[0;34m(self, params)\u001b[0m\n\u001b[1;32m    190\u001b[0m         \u001b[0;32mtry\u001b[0m\u001b[0;34m:\u001b[0m\u001b[0;34m\u001b[0m\u001b[0;34m\u001b[0m\u001b[0m\n\u001b[0;32m--> 191\u001b[0;31m             \u001b[0mtarget\u001b[0m \u001b[0;34m=\u001b[0m \u001b[0mself\u001b[0m\u001b[0;34m.\u001b[0m\u001b[0m_cache\u001b[0m\u001b[0;34m[\u001b[0m\u001b[0m_hashable\u001b[0m\u001b[0;34m(\u001b[0m\u001b[0mx\u001b[0m\u001b[0;34m)\u001b[0m\u001b[0;34m]\u001b[0m\u001b[0;34m\u001b[0m\u001b[0;34m\u001b[0m\u001b[0m\n\u001b[0m\u001b[1;32m    192\u001b[0m         \u001b[0;32mexcept\u001b[0m \u001b[0mKeyError\u001b[0m\u001b[0;34m:\u001b[0m\u001b[0;34m\u001b[0m\u001b[0;34m\u001b[0m\u001b[0m\n",
      "\u001b[0;31mKeyError\u001b[0m: (0.8557582754242864, 0.0925251786261785, 1112.5494427650306, 575.0832354767806, 3.1711747031423254, 19.374772927466275, 0.8737880750259674)",
      "\nDuring handling of the above exception, another exception occurred:\n",
      "\u001b[0;31mKeyboardInterrupt\u001b[0m                         Traceback (most recent call last)",
      "\u001b[0;32m<ipython-input-39-6f479b2dc69d>\u001b[0m in \u001b[0;36m<module>\u001b[0;34m\u001b[0m\n\u001b[1;32m     13\u001b[0m     \u001b[0mrandom_state\u001b[0m\u001b[0;34m=\u001b[0m\u001b[0;36m42\u001b[0m\u001b[0;34m\u001b[0m\u001b[0;34m\u001b[0m\u001b[0m\n\u001b[1;32m     14\u001b[0m )\n\u001b[0;32m---> 15\u001b[0;31m \u001b[0mlgbBO\u001b[0m\u001b[0;34m.\u001b[0m\u001b[0mmaximize\u001b[0m\u001b[0;34m(\u001b[0m\u001b[0minit_points\u001b[0m\u001b[0;34m=\u001b[0m\u001b[0;36m5\u001b[0m\u001b[0;34m,\u001b[0m \u001b[0mn_iter\u001b[0m\u001b[0;34m=\u001b[0m\u001b[0;36m50\u001b[0m\u001b[0;34m)\u001b[0m\u001b[0;34m\u001b[0m\u001b[0;34m\u001b[0m\u001b[0m\n\u001b[0m",
      "\u001b[0;32m~/anaconda3/lib/python3.7/site-packages/bayes_opt/bayesian_optimization.py\u001b[0m in \u001b[0;36mmaximize\u001b[0;34m(self, init_points, n_iter, acq, kappa, xi, **gp_params)\u001b[0m\n\u001b[1;32m    172\u001b[0m                 \u001b[0miteration\u001b[0m \u001b[0;34m+=\u001b[0m \u001b[0;36m1\u001b[0m\u001b[0;34m\u001b[0m\u001b[0;34m\u001b[0m\u001b[0m\n\u001b[1;32m    173\u001b[0m \u001b[0;34m\u001b[0m\u001b[0m\n\u001b[0;32m--> 174\u001b[0;31m             \u001b[0mself\u001b[0m\u001b[0;34m.\u001b[0m\u001b[0mprobe\u001b[0m\u001b[0;34m(\u001b[0m\u001b[0mx_probe\u001b[0m\u001b[0;34m,\u001b[0m \u001b[0mlazy\u001b[0m\u001b[0;34m=\u001b[0m\u001b[0;32mFalse\u001b[0m\u001b[0;34m)\u001b[0m\u001b[0;34m\u001b[0m\u001b[0;34m\u001b[0m\u001b[0m\n\u001b[0m\u001b[1;32m    175\u001b[0m \u001b[0;34m\u001b[0m\u001b[0m\n\u001b[1;32m    176\u001b[0m         \u001b[0mself\u001b[0m\u001b[0;34m.\u001b[0m\u001b[0mdispatch\u001b[0m\u001b[0;34m(\u001b[0m\u001b[0mEvents\u001b[0m\u001b[0;34m.\u001b[0m\u001b[0mOPTIMIZATION_END\u001b[0m\u001b[0;34m)\u001b[0m\u001b[0;34m\u001b[0m\u001b[0;34m\u001b[0m\u001b[0m\n",
      "\u001b[0;32m~/anaconda3/lib/python3.7/site-packages/bayes_opt/bayesian_optimization.py\u001b[0m in \u001b[0;36mprobe\u001b[0;34m(self, params, lazy)\u001b[0m\n\u001b[1;32m    110\u001b[0m             \u001b[0mself\u001b[0m\u001b[0;34m.\u001b[0m\u001b[0m_queue\u001b[0m\u001b[0;34m.\u001b[0m\u001b[0madd\u001b[0m\u001b[0;34m(\u001b[0m\u001b[0mparams\u001b[0m\u001b[0;34m)\u001b[0m\u001b[0;34m\u001b[0m\u001b[0;34m\u001b[0m\u001b[0m\n\u001b[1;32m    111\u001b[0m         \u001b[0;32melse\u001b[0m\u001b[0;34m:\u001b[0m\u001b[0;34m\u001b[0m\u001b[0;34m\u001b[0m\u001b[0m\n\u001b[0;32m--> 112\u001b[0;31m             \u001b[0mself\u001b[0m\u001b[0;34m.\u001b[0m\u001b[0m_space\u001b[0m\u001b[0;34m.\u001b[0m\u001b[0mprobe\u001b[0m\u001b[0;34m(\u001b[0m\u001b[0mparams\u001b[0m\u001b[0;34m)\u001b[0m\u001b[0;34m\u001b[0m\u001b[0;34m\u001b[0m\u001b[0m\n\u001b[0m\u001b[1;32m    113\u001b[0m             \u001b[0mself\u001b[0m\u001b[0;34m.\u001b[0m\u001b[0mdispatch\u001b[0m\u001b[0;34m(\u001b[0m\u001b[0mEvents\u001b[0m\u001b[0;34m.\u001b[0m\u001b[0mOPTIMIZATION_STEP\u001b[0m\u001b[0;34m)\u001b[0m\u001b[0;34m\u001b[0m\u001b[0;34m\u001b[0m\u001b[0m\n\u001b[1;32m    114\u001b[0m \u001b[0;34m\u001b[0m\u001b[0m\n",
      "\u001b[0;32m~/anaconda3/lib/python3.7/site-packages/bayes_opt/target_space.py\u001b[0m in \u001b[0;36mprobe\u001b[0;34m(self, params)\u001b[0m\n\u001b[1;32m    192\u001b[0m         \u001b[0;32mexcept\u001b[0m \u001b[0mKeyError\u001b[0m\u001b[0;34m:\u001b[0m\u001b[0;34m\u001b[0m\u001b[0;34m\u001b[0m\u001b[0m\n\u001b[1;32m    193\u001b[0m             \u001b[0mparams\u001b[0m \u001b[0;34m=\u001b[0m \u001b[0mdict\u001b[0m\u001b[0;34m(\u001b[0m\u001b[0mzip\u001b[0m\u001b[0;34m(\u001b[0m\u001b[0mself\u001b[0m\u001b[0;34m.\u001b[0m\u001b[0m_keys\u001b[0m\u001b[0;34m,\u001b[0m \u001b[0mx\u001b[0m\u001b[0;34m)\u001b[0m\u001b[0;34m)\u001b[0m\u001b[0;34m\u001b[0m\u001b[0;34m\u001b[0m\u001b[0m\n\u001b[0;32m--> 194\u001b[0;31m             \u001b[0mtarget\u001b[0m \u001b[0;34m=\u001b[0m \u001b[0mself\u001b[0m\u001b[0;34m.\u001b[0m\u001b[0mtarget_func\u001b[0m\u001b[0;34m(\u001b[0m\u001b[0;34m**\u001b[0m\u001b[0mparams\u001b[0m\u001b[0;34m)\u001b[0m\u001b[0;34m\u001b[0m\u001b[0;34m\u001b[0m\u001b[0m\n\u001b[0m\u001b[1;32m    195\u001b[0m             \u001b[0mself\u001b[0m\u001b[0;34m.\u001b[0m\u001b[0mregister\u001b[0m\u001b[0;34m(\u001b[0m\u001b[0mx\u001b[0m\u001b[0;34m,\u001b[0m \u001b[0mtarget\u001b[0m\u001b[0;34m)\u001b[0m\u001b[0;34m\u001b[0m\u001b[0;34m\u001b[0m\u001b[0m\n\u001b[1;32m    196\u001b[0m         \u001b[0;32mreturn\u001b[0m \u001b[0mtarget\u001b[0m\u001b[0;34m\u001b[0m\u001b[0;34m\u001b[0m\u001b[0m\n",
      "\u001b[0;32m<ipython-input-38-4cf01855e25f>\u001b[0m in \u001b[0;36mlgb_cv\u001b[0;34m(num_leaves, subsample, learning_rate, n_estimators, colsample_bytree, reg_alpha, reg_lambda, x_data, y_data, n_splits, output)\u001b[0m\n\u001b[1;32m     18\u001b[0m         )\n\u001b[1;32m     19\u001b[0m \u001b[0;34m\u001b[0m\u001b[0m\n\u001b[0;32m---> 20\u001b[0;31m         \u001b[0mmodel\u001b[0m\u001b[0;34m.\u001b[0m\u001b[0mfit\u001b[0m\u001b[0;34m(\u001b[0m\u001b[0mx_train\u001b[0m\u001b[0;34m,\u001b[0m \u001b[0my_train\u001b[0m\u001b[0;34m)\u001b[0m\u001b[0;34m\u001b[0m\u001b[0;34m\u001b[0m\u001b[0m\n\u001b[0m\u001b[1;32m     21\u001b[0m         \u001b[0mmodels\u001b[0m\u001b[0;34m.\u001b[0m\u001b[0mappend\u001b[0m\u001b[0;34m(\u001b[0m\u001b[0mmodel\u001b[0m\u001b[0;34m)\u001b[0m\u001b[0;34m\u001b[0m\u001b[0;34m\u001b[0m\u001b[0m\n\u001b[1;32m     22\u001b[0m \u001b[0;34m\u001b[0m\u001b[0m\n",
      "\u001b[0;32m~/anaconda3/lib/python3.7/site-packages/lightgbm/sklearn.py\u001b[0m in \u001b[0;36mfit\u001b[0;34m(self, X, y, sample_weight, init_score, eval_set, eval_names, eval_sample_weight, eval_class_weight, eval_init_score, eval_metric, early_stopping_rounds, verbose, feature_name, categorical_feature, callbacks)\u001b[0m\n\u001b[1;32m    803\u001b[0m                                         \u001b[0mverbose\u001b[0m\u001b[0;34m=\u001b[0m\u001b[0mverbose\u001b[0m\u001b[0;34m,\u001b[0m \u001b[0mfeature_name\u001b[0m\u001b[0;34m=\u001b[0m\u001b[0mfeature_name\u001b[0m\u001b[0;34m,\u001b[0m\u001b[0;34m\u001b[0m\u001b[0;34m\u001b[0m\u001b[0m\n\u001b[1;32m    804\u001b[0m                                         \u001b[0mcategorical_feature\u001b[0m\u001b[0;34m=\u001b[0m\u001b[0mcategorical_feature\u001b[0m\u001b[0;34m,\u001b[0m\u001b[0;34m\u001b[0m\u001b[0;34m\u001b[0m\u001b[0m\n\u001b[0;32m--> 805\u001b[0;31m                                         callbacks=callbacks)\n\u001b[0m\u001b[1;32m    806\u001b[0m         \u001b[0;32mreturn\u001b[0m \u001b[0mself\u001b[0m\u001b[0;34m\u001b[0m\u001b[0;34m\u001b[0m\u001b[0m\n\u001b[1;32m    807\u001b[0m \u001b[0;34m\u001b[0m\u001b[0m\n",
      "\u001b[0;32m~/anaconda3/lib/python3.7/site-packages/lightgbm/sklearn.py\u001b[0m in \u001b[0;36mfit\u001b[0;34m(self, X, y, sample_weight, init_score, group, eval_set, eval_names, eval_sample_weight, eval_class_weight, eval_init_score, eval_group, eval_metric, early_stopping_rounds, verbose, feature_name, categorical_feature, callbacks)\u001b[0m\n\u001b[1;32m    598\u001b[0m                               \u001b[0mverbose_eval\u001b[0m\u001b[0;34m=\u001b[0m\u001b[0mverbose\u001b[0m\u001b[0;34m,\u001b[0m \u001b[0mfeature_name\u001b[0m\u001b[0;34m=\u001b[0m\u001b[0mfeature_name\u001b[0m\u001b[0;34m,\u001b[0m\u001b[0;34m\u001b[0m\u001b[0;34m\u001b[0m\u001b[0m\n\u001b[1;32m    599\u001b[0m                               \u001b[0mcategorical_feature\u001b[0m\u001b[0;34m=\u001b[0m\u001b[0mcategorical_feature\u001b[0m\u001b[0;34m,\u001b[0m\u001b[0;34m\u001b[0m\u001b[0;34m\u001b[0m\u001b[0m\n\u001b[0;32m--> 600\u001b[0;31m                               callbacks=callbacks)\n\u001b[0m\u001b[1;32m    601\u001b[0m \u001b[0;34m\u001b[0m\u001b[0m\n\u001b[1;32m    602\u001b[0m         \u001b[0;32mif\u001b[0m \u001b[0mevals_result\u001b[0m\u001b[0;34m:\u001b[0m\u001b[0;34m\u001b[0m\u001b[0;34m\u001b[0m\u001b[0m\n",
      "\u001b[0;32m~/anaconda3/lib/python3.7/site-packages/lightgbm/engine.py\u001b[0m in \u001b[0;36mtrain\u001b[0;34m(params, train_set, num_boost_round, valid_sets, valid_names, fobj, feval, init_model, feature_name, categorical_feature, early_stopping_rounds, evals_result, verbose_eval, learning_rates, keep_training_booster, callbacks)\u001b[0m\n\u001b[1;32m    247\u001b[0m                                     evaluation_result_list=None))\n\u001b[1;32m    248\u001b[0m \u001b[0;34m\u001b[0m\u001b[0m\n\u001b[0;32m--> 249\u001b[0;31m         \u001b[0mbooster\u001b[0m\u001b[0;34m.\u001b[0m\u001b[0mupdate\u001b[0m\u001b[0;34m(\u001b[0m\u001b[0mfobj\u001b[0m\u001b[0;34m=\u001b[0m\u001b[0mfobj\u001b[0m\u001b[0;34m)\u001b[0m\u001b[0;34m\u001b[0m\u001b[0;34m\u001b[0m\u001b[0m\n\u001b[0m\u001b[1;32m    250\u001b[0m \u001b[0;34m\u001b[0m\u001b[0m\n\u001b[1;32m    251\u001b[0m         \u001b[0mevaluation_result_list\u001b[0m \u001b[0;34m=\u001b[0m \u001b[0;34m[\u001b[0m\u001b[0;34m]\u001b[0m\u001b[0;34m\u001b[0m\u001b[0;34m\u001b[0m\u001b[0m\n",
      "\u001b[0;32m~/anaconda3/lib/python3.7/site-packages/lightgbm/basic.py\u001b[0m in \u001b[0;36mupdate\u001b[0;34m(self, train_set, fobj)\u001b[0m\n\u001b[1;32m   1974\u001b[0m             _safe_call(_LIB.LGBM_BoosterUpdateOneIter(\n\u001b[1;32m   1975\u001b[0m                 \u001b[0mself\u001b[0m\u001b[0;34m.\u001b[0m\u001b[0mhandle\u001b[0m\u001b[0;34m,\u001b[0m\u001b[0;34m\u001b[0m\u001b[0;34m\u001b[0m\u001b[0m\n\u001b[0;32m-> 1976\u001b[0;31m                 ctypes.byref(is_finished)))\n\u001b[0m\u001b[1;32m   1977\u001b[0m             \u001b[0mself\u001b[0m\u001b[0;34m.\u001b[0m\u001b[0m__is_predicted_cur_iter\u001b[0m \u001b[0;34m=\u001b[0m \u001b[0;34m[\u001b[0m\u001b[0;32mFalse\u001b[0m \u001b[0;32mfor\u001b[0m \u001b[0m_\u001b[0m \u001b[0;32min\u001b[0m \u001b[0mrange_\u001b[0m\u001b[0;34m(\u001b[0m\u001b[0mself\u001b[0m\u001b[0;34m.\u001b[0m\u001b[0m__num_dataset\u001b[0m\u001b[0;34m)\u001b[0m\u001b[0;34m]\u001b[0m\u001b[0;34m\u001b[0m\u001b[0;34m\u001b[0m\u001b[0m\n\u001b[1;32m   1978\u001b[0m             \u001b[0;32mreturn\u001b[0m \u001b[0mis_finished\u001b[0m\u001b[0;34m.\u001b[0m\u001b[0mvalue\u001b[0m \u001b[0;34m==\u001b[0m \u001b[0;36m1\u001b[0m\u001b[0;34m\u001b[0m\u001b[0;34m\u001b[0m\u001b[0m\n",
      "\u001b[0;31mKeyboardInterrupt\u001b[0m: "
     ]
    }
   ],
   "source": [
    "func_fixed = partial(lgb_cv, x_data=df_train, y_data=y_train, n_splits=5, output='score') \n",
    "lgbBO = BayesianOptimization(\n",
    "    func_fixed, \n",
    "    {\n",
    "        'num_leaves': (128, 900),\n",
    "        'subsample': (0, 1),             # subsample,        범위(0~1)\n",
    "        'learning_rate': (0.0001, 0.1),\n",
    "        'n_estimators': (200, 2000),\n",
    "        'colsample_bytree': (0.15, 1),\n",
    "        'reg_alpha': (1.5, 9.5), \n",
    "        'reg_lambda': (10, 120)\n",
    "    }, \n",
    "    random_state=42\n",
    ")\n",
    "lgbBO.maximize(init_points=5, n_iter=50)"
   ]
  },
  {
   "cell_type": "code",
   "execution_count": 23,
   "metadata": {
    "scrolled": true
   },
   "outputs": [
    {
     "name": "stdout",
     "output_type": "stream",
     "text": [
      "|   iter    |  target   | colsam... | learni... | n_esti... | num_le... | reg_alpha | reg_la... | subsample |\n",
      "-------------------------------------------------------------------------------------------------------------\n",
      "| \u001b[0m 1       \u001b[0m | \u001b[0m 0.7296  \u001b[0m | \u001b[0m 0.4684  \u001b[0m | \u001b[0m 0.09508 \u001b[0m | \u001b[0m 1.518e+0\u001b[0m | \u001b[0m 590.2   \u001b[0m | \u001b[0m 2.748   \u001b[0m | \u001b[0m 27.16   \u001b[0m | \u001b[0m 0.05808 \u001b[0m |\n",
      "| \u001b[0m 2       \u001b[0m | \u001b[0m 0.7296  \u001b[0m | \u001b[0m 0.8862  \u001b[0m | \u001b[0m 0.06015 \u001b[0m | \u001b[0m 1.475e+0\u001b[0m | \u001b[0m 143.9   \u001b[0m | \u001b[0m 9.259   \u001b[0m | \u001b[0m 101.6   \u001b[0m | \u001b[0m 0.2123  \u001b[0m |\n",
      "| \u001b[95m 3       \u001b[0m | \u001b[95m 0.7359  \u001b[0m | \u001b[95m 0.3046  \u001b[0m | \u001b[95m 0.01842 \u001b[0m | \u001b[95m 747.6   \u001b[0m | \u001b[95m 533.1   \u001b[0m | \u001b[95m 4.956   \u001b[0m | \u001b[95m 42.04   \u001b[0m | \u001b[95m 0.6119  \u001b[0m |\n",
      "| \u001b[95m 4       \u001b[0m | \u001b[95m 0.7364  \u001b[0m | \u001b[95m 0.2686  \u001b[0m | \u001b[95m 0.02929 \u001b[0m | \u001b[95m 859.5   \u001b[0m | \u001b[95m 480.1   \u001b[0m | \u001b[95m 7.781   \u001b[0m | \u001b[95m 31.96   \u001b[0m | \u001b[95m 0.5142  \u001b[0m |\n",
      "| \u001b[0m 5       \u001b[0m | \u001b[0m 0.7239  \u001b[0m | \u001b[0m 0.6536  \u001b[0m | \u001b[0m 0.00474 \u001b[0m | \u001b[0m 1.294e+0\u001b[0m | \u001b[0m 259.6   \u001b[0m | \u001b[0m 2.02    \u001b[0m | \u001b[0m 114.4   \u001b[0m | \u001b[0m 0.9656  \u001b[0m |\n",
      "| \u001b[0m 6       \u001b[0m | \u001b[0m 0.7252  \u001b[0m | \u001b[0m 0.5458  \u001b[0m | \u001b[0m 0.02488 \u001b[0m | \u001b[0m 207.8   \u001b[0m | \u001b[0m 148.5   \u001b[0m | \u001b[0m 4.362   \u001b[0m | \u001b[0m 23.66   \u001b[0m | \u001b[0m 0.02236 \u001b[0m |\n",
      "| \u001b[0m 7       \u001b[0m | \u001b[0m 0.7328  \u001b[0m | \u001b[0m 0.2018  \u001b[0m | \u001b[0m 0.01486 \u001b[0m | \u001b[0m 857.3   \u001b[0m | \u001b[0m 479.9   \u001b[0m | \u001b[0m 9.106   \u001b[0m | \u001b[0m 36.6    \u001b[0m | \u001b[0m 0.721   \u001b[0m |\n",
      "| \u001b[0m 8       \u001b[0m | \u001b[0m 0.7268  \u001b[0m | \u001b[0m 0.2912  \u001b[0m | \u001b[0m 0.03147 \u001b[0m | \u001b[0m 211.3   \u001b[0m | \u001b[0m 881.7   \u001b[0m | \u001b[0m 7.693   \u001b[0m | \u001b[0m 10.15   \u001b[0m | \u001b[0m 0.8269  \u001b[0m |\n",
      "| \u001b[95m 9       \u001b[0m | \u001b[95m 0.7397  \u001b[0m | \u001b[95m 0.3009  \u001b[0m | \u001b[95m 0.007092\u001b[0m | \u001b[95m 1.98e+03\u001b[0m | \u001b[95m 197.9   \u001b[0m | \u001b[95m 2.181   \u001b[0m | \u001b[95m 20.94   \u001b[0m | \u001b[95m 0.8421  \u001b[0m |\n",
      "| \u001b[0m 10      \u001b[0m | \u001b[0m 0.7395  \u001b[0m | \u001b[0m 0.3789  \u001b[0m | \u001b[0m 0.01125 \u001b[0m | \u001b[0m 1.321e+0\u001b[0m | \u001b[0m 148.3   \u001b[0m | \u001b[0m 2.401   \u001b[0m | \u001b[0m 13.21   \u001b[0m | \u001b[0m 0.2678  \u001b[0m |\n",
      "| \u001b[0m 11      \u001b[0m | \u001b[0m 0.7256  \u001b[0m | \u001b[0m 0.4818  \u001b[0m | \u001b[0m 0.08757 \u001b[0m | \u001b[0m 1.02e+03\u001b[0m | \u001b[0m 889.8   \u001b[0m | \u001b[0m 8.659   \u001b[0m | \u001b[0m 11.68   \u001b[0m | \u001b[0m 0.5195  \u001b[0m |\n",
      "| \u001b[0m 12      \u001b[0m | \u001b[0m 0.729   \u001b[0m | \u001b[0m 0.6803  \u001b[0m | \u001b[0m 0.04731 \u001b[0m | \u001b[0m 1.827e+0\u001b[0m | \u001b[0m 137.4   \u001b[0m | \u001b[0m 6.785   \u001b[0m | \u001b[0m 12.11   \u001b[0m | \u001b[0m 0.004671\u001b[0m |\n",
      "| \u001b[0m 13      \u001b[0m | \u001b[0m 0.7297  \u001b[0m | \u001b[0m 0.6662  \u001b[0m | \u001b[0m 0.04355 \u001b[0m | \u001b[0m 1.996e+0\u001b[0m | \u001b[0m 898.9   \u001b[0m | \u001b[0m 5.899   \u001b[0m | \u001b[0m 79.67   \u001b[0m | \u001b[0m 0.3323  \u001b[0m |\n",
      "| \u001b[0m 14      \u001b[0m | \u001b[0m 0.7311  \u001b[0m | \u001b[0m 0.3144  \u001b[0m | \u001b[0m 0.006065\u001b[0m | \u001b[0m 1.332e+0\u001b[0m | \u001b[0m 143.7   \u001b[0m | \u001b[0m 8.163   \u001b[0m | \u001b[0m 16.58   \u001b[0m | \u001b[0m 0.0515  \u001b[0m |\n"
     ]
    },
    {
     "ename": "KeyboardInterrupt",
     "evalue": "",
     "output_type": "error",
     "traceback": [
      "\u001b[0;31m---------------------------------------------------------------------------\u001b[0m",
      "\u001b[0;31mKeyError\u001b[0m                                  Traceback (most recent call last)",
      "\u001b[0;32m~/anaconda3/lib/python3.7/site-packages/bayes_opt/target_space.py\u001b[0m in \u001b[0;36mprobe\u001b[0;34m(self, params)\u001b[0m\n\u001b[1;32m    190\u001b[0m         \u001b[0;32mtry\u001b[0m\u001b[0;34m:\u001b[0m\u001b[0;34m\u001b[0m\u001b[0;34m\u001b[0m\u001b[0m\n\u001b[0;32m--> 191\u001b[0;31m             \u001b[0mtarget\u001b[0m \u001b[0;34m=\u001b[0m \u001b[0mself\u001b[0m\u001b[0;34m.\u001b[0m\u001b[0m_cache\u001b[0m\u001b[0;34m[\u001b[0m\u001b[0m_hashable\u001b[0m\u001b[0;34m(\u001b[0m\u001b[0mx\u001b[0m\u001b[0;34m)\u001b[0m\u001b[0;34m]\u001b[0m\u001b[0;34m\u001b[0m\u001b[0;34m\u001b[0m\u001b[0m\n\u001b[0m\u001b[1;32m    192\u001b[0m         \u001b[0;32mexcept\u001b[0m \u001b[0mKeyError\u001b[0m\u001b[0;34m:\u001b[0m\u001b[0;34m\u001b[0m\u001b[0;34m\u001b[0m\u001b[0m\n",
      "\u001b[0;31mKeyError\u001b[0m: (0.8063627780198391, 0.001445503697511826, 643.117893624788, 128.97925202925114, 3.555698281648466, 13.010229887763325, 0.38425737076765476)",
      "\nDuring handling of the above exception, another exception occurred:\n",
      "\u001b[0;31mKeyboardInterrupt\u001b[0m                         Traceback (most recent call last)",
      "\u001b[0;32m<ipython-input-23-4b647e8752df>\u001b[0m in \u001b[0;36m<module>\u001b[0;34m\u001b[0m\n\u001b[1;32m     13\u001b[0m     \u001b[0mrandom_state\u001b[0m\u001b[0;34m=\u001b[0m\u001b[0;36m42\u001b[0m\u001b[0;34m\u001b[0m\u001b[0;34m\u001b[0m\u001b[0m\n\u001b[1;32m     14\u001b[0m )\n\u001b[0;32m---> 15\u001b[0;31m \u001b[0mlgbBO\u001b[0m\u001b[0;34m.\u001b[0m\u001b[0mmaximize\u001b[0m\u001b[0;34m(\u001b[0m\u001b[0minit_points\u001b[0m\u001b[0;34m=\u001b[0m\u001b[0;36m5\u001b[0m\u001b[0;34m,\u001b[0m \u001b[0mn_iter\u001b[0m\u001b[0;34m=\u001b[0m\u001b[0;36m30\u001b[0m\u001b[0;34m)\u001b[0m\u001b[0;34m\u001b[0m\u001b[0;34m\u001b[0m\u001b[0m\n\u001b[0m",
      "\u001b[0;32m~/anaconda3/lib/python3.7/site-packages/bayes_opt/bayesian_optimization.py\u001b[0m in \u001b[0;36mmaximize\u001b[0;34m(self, init_points, n_iter, acq, kappa, xi, **gp_params)\u001b[0m\n\u001b[1;32m    172\u001b[0m                 \u001b[0miteration\u001b[0m \u001b[0;34m+=\u001b[0m \u001b[0;36m1\u001b[0m\u001b[0;34m\u001b[0m\u001b[0;34m\u001b[0m\u001b[0m\n\u001b[1;32m    173\u001b[0m \u001b[0;34m\u001b[0m\u001b[0m\n\u001b[0;32m--> 174\u001b[0;31m             \u001b[0mself\u001b[0m\u001b[0;34m.\u001b[0m\u001b[0mprobe\u001b[0m\u001b[0;34m(\u001b[0m\u001b[0mx_probe\u001b[0m\u001b[0;34m,\u001b[0m \u001b[0mlazy\u001b[0m\u001b[0;34m=\u001b[0m\u001b[0;32mFalse\u001b[0m\u001b[0;34m)\u001b[0m\u001b[0;34m\u001b[0m\u001b[0;34m\u001b[0m\u001b[0m\n\u001b[0m\u001b[1;32m    175\u001b[0m \u001b[0;34m\u001b[0m\u001b[0m\n\u001b[1;32m    176\u001b[0m         \u001b[0mself\u001b[0m\u001b[0;34m.\u001b[0m\u001b[0mdispatch\u001b[0m\u001b[0;34m(\u001b[0m\u001b[0mEvents\u001b[0m\u001b[0;34m.\u001b[0m\u001b[0mOPTIMIZATION_END\u001b[0m\u001b[0;34m)\u001b[0m\u001b[0;34m\u001b[0m\u001b[0;34m\u001b[0m\u001b[0m\n",
      "\u001b[0;32m~/anaconda3/lib/python3.7/site-packages/bayes_opt/bayesian_optimization.py\u001b[0m in \u001b[0;36mprobe\u001b[0;34m(self, params, lazy)\u001b[0m\n\u001b[1;32m    110\u001b[0m             \u001b[0mself\u001b[0m\u001b[0;34m.\u001b[0m\u001b[0m_queue\u001b[0m\u001b[0;34m.\u001b[0m\u001b[0madd\u001b[0m\u001b[0;34m(\u001b[0m\u001b[0mparams\u001b[0m\u001b[0;34m)\u001b[0m\u001b[0;34m\u001b[0m\u001b[0;34m\u001b[0m\u001b[0m\n\u001b[1;32m    111\u001b[0m         \u001b[0;32melse\u001b[0m\u001b[0;34m:\u001b[0m\u001b[0;34m\u001b[0m\u001b[0;34m\u001b[0m\u001b[0m\n\u001b[0;32m--> 112\u001b[0;31m             \u001b[0mself\u001b[0m\u001b[0;34m.\u001b[0m\u001b[0m_space\u001b[0m\u001b[0;34m.\u001b[0m\u001b[0mprobe\u001b[0m\u001b[0;34m(\u001b[0m\u001b[0mparams\u001b[0m\u001b[0;34m)\u001b[0m\u001b[0;34m\u001b[0m\u001b[0;34m\u001b[0m\u001b[0m\n\u001b[0m\u001b[1;32m    113\u001b[0m             \u001b[0mself\u001b[0m\u001b[0;34m.\u001b[0m\u001b[0mdispatch\u001b[0m\u001b[0;34m(\u001b[0m\u001b[0mEvents\u001b[0m\u001b[0;34m.\u001b[0m\u001b[0mOPTIMIZATION_STEP\u001b[0m\u001b[0;34m)\u001b[0m\u001b[0;34m\u001b[0m\u001b[0;34m\u001b[0m\u001b[0m\n\u001b[1;32m    114\u001b[0m \u001b[0;34m\u001b[0m\u001b[0m\n",
      "\u001b[0;32m~/anaconda3/lib/python3.7/site-packages/bayes_opt/target_space.py\u001b[0m in \u001b[0;36mprobe\u001b[0;34m(self, params)\u001b[0m\n\u001b[1;32m    192\u001b[0m         \u001b[0;32mexcept\u001b[0m \u001b[0mKeyError\u001b[0m\u001b[0;34m:\u001b[0m\u001b[0;34m\u001b[0m\u001b[0;34m\u001b[0m\u001b[0m\n\u001b[1;32m    193\u001b[0m             \u001b[0mparams\u001b[0m \u001b[0;34m=\u001b[0m \u001b[0mdict\u001b[0m\u001b[0;34m(\u001b[0m\u001b[0mzip\u001b[0m\u001b[0;34m(\u001b[0m\u001b[0mself\u001b[0m\u001b[0;34m.\u001b[0m\u001b[0m_keys\u001b[0m\u001b[0;34m,\u001b[0m \u001b[0mx\u001b[0m\u001b[0;34m)\u001b[0m\u001b[0;34m)\u001b[0m\u001b[0;34m\u001b[0m\u001b[0;34m\u001b[0m\u001b[0m\n\u001b[0;32m--> 194\u001b[0;31m             \u001b[0mtarget\u001b[0m \u001b[0;34m=\u001b[0m \u001b[0mself\u001b[0m\u001b[0;34m.\u001b[0m\u001b[0mtarget_func\u001b[0m\u001b[0;34m(\u001b[0m\u001b[0;34m**\u001b[0m\u001b[0mparams\u001b[0m\u001b[0;34m)\u001b[0m\u001b[0;34m\u001b[0m\u001b[0;34m\u001b[0m\u001b[0m\n\u001b[0m\u001b[1;32m    195\u001b[0m             \u001b[0mself\u001b[0m\u001b[0;34m.\u001b[0m\u001b[0mregister\u001b[0m\u001b[0;34m(\u001b[0m\u001b[0mx\u001b[0m\u001b[0;34m,\u001b[0m \u001b[0mtarget\u001b[0m\u001b[0;34m)\u001b[0m\u001b[0;34m\u001b[0m\u001b[0;34m\u001b[0m\u001b[0m\n\u001b[1;32m    196\u001b[0m         \u001b[0;32mreturn\u001b[0m \u001b[0mtarget\u001b[0m\u001b[0;34m\u001b[0m\u001b[0;34m\u001b[0m\u001b[0m\n",
      "\u001b[0;32m<ipython-input-18-4cf01855e25f>\u001b[0m in \u001b[0;36mlgb_cv\u001b[0;34m(num_leaves, subsample, learning_rate, n_estimators, colsample_bytree, reg_alpha, reg_lambda, x_data, y_data, n_splits, output)\u001b[0m\n\u001b[1;32m     18\u001b[0m         )\n\u001b[1;32m     19\u001b[0m \u001b[0;34m\u001b[0m\u001b[0m\n\u001b[0;32m---> 20\u001b[0;31m         \u001b[0mmodel\u001b[0m\u001b[0;34m.\u001b[0m\u001b[0mfit\u001b[0m\u001b[0;34m(\u001b[0m\u001b[0mx_train\u001b[0m\u001b[0;34m,\u001b[0m \u001b[0my_train\u001b[0m\u001b[0;34m)\u001b[0m\u001b[0;34m\u001b[0m\u001b[0;34m\u001b[0m\u001b[0m\n\u001b[0m\u001b[1;32m     21\u001b[0m         \u001b[0mmodels\u001b[0m\u001b[0;34m.\u001b[0m\u001b[0mappend\u001b[0m\u001b[0;34m(\u001b[0m\u001b[0mmodel\u001b[0m\u001b[0;34m)\u001b[0m\u001b[0;34m\u001b[0m\u001b[0;34m\u001b[0m\u001b[0m\n\u001b[1;32m     22\u001b[0m \u001b[0;34m\u001b[0m\u001b[0m\n",
      "\u001b[0;32m~/anaconda3/lib/python3.7/site-packages/lightgbm/sklearn.py\u001b[0m in \u001b[0;36mfit\u001b[0;34m(self, X, y, sample_weight, init_score, eval_set, eval_names, eval_sample_weight, eval_class_weight, eval_init_score, eval_metric, early_stopping_rounds, verbose, feature_name, categorical_feature, callbacks)\u001b[0m\n\u001b[1;32m    803\u001b[0m                                         \u001b[0mverbose\u001b[0m\u001b[0;34m=\u001b[0m\u001b[0mverbose\u001b[0m\u001b[0;34m,\u001b[0m \u001b[0mfeature_name\u001b[0m\u001b[0;34m=\u001b[0m\u001b[0mfeature_name\u001b[0m\u001b[0;34m,\u001b[0m\u001b[0;34m\u001b[0m\u001b[0;34m\u001b[0m\u001b[0m\n\u001b[1;32m    804\u001b[0m                                         \u001b[0mcategorical_feature\u001b[0m\u001b[0;34m=\u001b[0m\u001b[0mcategorical_feature\u001b[0m\u001b[0;34m,\u001b[0m\u001b[0;34m\u001b[0m\u001b[0;34m\u001b[0m\u001b[0m\n\u001b[0;32m--> 805\u001b[0;31m                                         callbacks=callbacks)\n\u001b[0m\u001b[1;32m    806\u001b[0m         \u001b[0;32mreturn\u001b[0m \u001b[0mself\u001b[0m\u001b[0;34m\u001b[0m\u001b[0;34m\u001b[0m\u001b[0m\n\u001b[1;32m    807\u001b[0m \u001b[0;34m\u001b[0m\u001b[0m\n",
      "\u001b[0;32m~/anaconda3/lib/python3.7/site-packages/lightgbm/sklearn.py\u001b[0m in \u001b[0;36mfit\u001b[0;34m(self, X, y, sample_weight, init_score, group, eval_set, eval_names, eval_sample_weight, eval_class_weight, eval_init_score, eval_group, eval_metric, early_stopping_rounds, verbose, feature_name, categorical_feature, callbacks)\u001b[0m\n\u001b[1;32m    598\u001b[0m                               \u001b[0mverbose_eval\u001b[0m\u001b[0;34m=\u001b[0m\u001b[0mverbose\u001b[0m\u001b[0;34m,\u001b[0m \u001b[0mfeature_name\u001b[0m\u001b[0;34m=\u001b[0m\u001b[0mfeature_name\u001b[0m\u001b[0;34m,\u001b[0m\u001b[0;34m\u001b[0m\u001b[0;34m\u001b[0m\u001b[0m\n\u001b[1;32m    599\u001b[0m                               \u001b[0mcategorical_feature\u001b[0m\u001b[0;34m=\u001b[0m\u001b[0mcategorical_feature\u001b[0m\u001b[0;34m,\u001b[0m\u001b[0;34m\u001b[0m\u001b[0;34m\u001b[0m\u001b[0m\n\u001b[0;32m--> 600\u001b[0;31m                               callbacks=callbacks)\n\u001b[0m\u001b[1;32m    601\u001b[0m \u001b[0;34m\u001b[0m\u001b[0m\n\u001b[1;32m    602\u001b[0m         \u001b[0;32mif\u001b[0m \u001b[0mevals_result\u001b[0m\u001b[0;34m:\u001b[0m\u001b[0;34m\u001b[0m\u001b[0;34m\u001b[0m\u001b[0m\n",
      "\u001b[0;32m~/anaconda3/lib/python3.7/site-packages/lightgbm/engine.py\u001b[0m in \u001b[0;36mtrain\u001b[0;34m(params, train_set, num_boost_round, valid_sets, valid_names, fobj, feval, init_model, feature_name, categorical_feature, early_stopping_rounds, evals_result, verbose_eval, learning_rates, keep_training_booster, callbacks)\u001b[0m\n\u001b[1;32m    247\u001b[0m                                     evaluation_result_list=None))\n\u001b[1;32m    248\u001b[0m \u001b[0;34m\u001b[0m\u001b[0m\n\u001b[0;32m--> 249\u001b[0;31m         \u001b[0mbooster\u001b[0m\u001b[0;34m.\u001b[0m\u001b[0mupdate\u001b[0m\u001b[0;34m(\u001b[0m\u001b[0mfobj\u001b[0m\u001b[0;34m=\u001b[0m\u001b[0mfobj\u001b[0m\u001b[0;34m)\u001b[0m\u001b[0;34m\u001b[0m\u001b[0;34m\u001b[0m\u001b[0m\n\u001b[0m\u001b[1;32m    250\u001b[0m \u001b[0;34m\u001b[0m\u001b[0m\n\u001b[1;32m    251\u001b[0m         \u001b[0mevaluation_result_list\u001b[0m \u001b[0;34m=\u001b[0m \u001b[0;34m[\u001b[0m\u001b[0;34m]\u001b[0m\u001b[0;34m\u001b[0m\u001b[0;34m\u001b[0m\u001b[0m\n",
      "\u001b[0;32m~/anaconda3/lib/python3.7/site-packages/lightgbm/basic.py\u001b[0m in \u001b[0;36mupdate\u001b[0;34m(self, train_set, fobj)\u001b[0m\n\u001b[1;32m   1974\u001b[0m             _safe_call(_LIB.LGBM_BoosterUpdateOneIter(\n\u001b[1;32m   1975\u001b[0m                 \u001b[0mself\u001b[0m\u001b[0;34m.\u001b[0m\u001b[0mhandle\u001b[0m\u001b[0;34m,\u001b[0m\u001b[0;34m\u001b[0m\u001b[0;34m\u001b[0m\u001b[0m\n\u001b[0;32m-> 1976\u001b[0;31m                 ctypes.byref(is_finished)))\n\u001b[0m\u001b[1;32m   1977\u001b[0m             \u001b[0mself\u001b[0m\u001b[0;34m.\u001b[0m\u001b[0m__is_predicted_cur_iter\u001b[0m \u001b[0;34m=\u001b[0m \u001b[0;34m[\u001b[0m\u001b[0;32mFalse\u001b[0m \u001b[0;32mfor\u001b[0m \u001b[0m_\u001b[0m \u001b[0;32min\u001b[0m \u001b[0mrange_\u001b[0m\u001b[0;34m(\u001b[0m\u001b[0mself\u001b[0m\u001b[0;34m.\u001b[0m\u001b[0m__num_dataset\u001b[0m\u001b[0;34m)\u001b[0m\u001b[0;34m]\u001b[0m\u001b[0;34m\u001b[0m\u001b[0;34m\u001b[0m\u001b[0m\n\u001b[1;32m   1978\u001b[0m             \u001b[0;32mreturn\u001b[0m \u001b[0mis_finished\u001b[0m\u001b[0;34m.\u001b[0m\u001b[0mvalue\u001b[0m \u001b[0;34m==\u001b[0m \u001b[0;36m1\u001b[0m\u001b[0;34m\u001b[0m\u001b[0;34m\u001b[0m\u001b[0m\n",
      "\u001b[0;31mKeyboardInterrupt\u001b[0m: "
     ]
    }
   ],
   "source": [
    "func_fixed = partial(lgb_cv, x_data=df_train, y_data=y_train, n_splits=5, output='score') \n",
    "lgbBO = BayesianOptimization(\n",
    "    func_fixed, \n",
    "    {\n",
    "        'num_leaves': (128, 900),\n",
    "        'subsample': (0, 1),             # subsample,        범위(0~1)\n",
    "        'learning_rate': (0.0001, 0.1),\n",
    "        'n_estimators': (200, 2000),\n",
    "        'colsample_bytree': (0.15, 1),\n",
    "        'reg_alpha': (1.5, 9.5), \n",
    "        'reg_lambda': (10, 120)\n",
    "    }, \n",
    "    random_state=42\n",
    ")\n",
    "lgbBO.maximize(init_points=5, n_iter=30)"
   ]
  },
  {
   "cell_type": "code",
   "execution_count": 24,
   "metadata": {},
   "outputs": [
    {
     "data": {
      "text/plain": [
       "LGBMClassifier(boosting_type='gbdt', class_weight=None, colsample_bytree=0.3009,\n",
       "               importance_type='split', learning_rate=0.007092, max_depth=-1,\n",
       "               min_child_samples=20, min_child_weight=0.001, min_split_gain=0.0,\n",
       "               n_estimators=1980, n_jobs=-1, num_leaves=197, objective=None,\n",
       "               random_state=None, reg_alpha=2.181, reg_lambda=20.94,\n",
       "               silent=True, subsample=0.8421, subsample_for_bin=200000,\n",
       "               subsample_freq=0)"
      ]
     },
     "execution_count": 24,
     "metadata": {},
     "output_type": "execute_result"
    }
   ],
   "source": [
    "lgbm = lgb.LGBMClassifier(\n",
    "            colsample_bytree = 0.3009,\n",
    "            num_leaves = 197, \n",
    "            learning_rate = 0.007092, \n",
    "            n_estimators = 1980, \n",
    "            reg_alpha = 2.181, \n",
    "            reg_lambda = 20.94,\n",
    "            subsample = 0.8421\n",
    "        )\n",
    "        \n",
    "lgbm.fit(df_train, y_train)"
   ]
  },
  {
   "cell_type": "code",
   "execution_count": 25,
   "metadata": {},
   "outputs": [],
   "source": [
    "y_pred = lgbm.predict_proba(df_test)"
   ]
  },
  {
   "cell_type": "code",
   "execution_count": 26,
   "metadata": {},
   "outputs": [
    {
     "data": {
      "text/plain": [
       "LGBMClassifier(boosting_type='gbdt', class_weight=None, colsample_bytree=0.3789,\n",
       "               importance_type='split', learning_rate=0.01125, max_depth=-1,\n",
       "               min_child_samples=20, min_child_weight=0.001, min_split_gain=0.0,\n",
       "               n_estimators=1321, n_jobs=-1, num_leaves=148, objective=None,\n",
       "               random_state=None, reg_alpha=2.401, reg_lambda=13.21,\n",
       "               silent=True, subsample=0.2678, subsample_for_bin=200000,\n",
       "               subsample_freq=0)"
      ]
     },
     "execution_count": 26,
     "metadata": {},
     "output_type": "execute_result"
    }
   ],
   "source": [
    "lgbm = lgb.LGBMClassifier(\n",
    "            colsample_bytree = 0.3789,\n",
    "            num_leaves = 148, \n",
    "            learning_rate = 0.01125, \n",
    "            n_estimators = 1321, \n",
    "            reg_alpha = 2.401, \n",
    "            reg_lambda = 13.21,\n",
    "            subsample = 0.2678\n",
    "        )\n",
    "        \n",
    "lgbm.fit(df_train, y_train)"
   ]
  },
  {
   "cell_type": "code",
   "execution_count": 27,
   "metadata": {},
   "outputs": [],
   "source": [
    "y_pred2 = lgbm.predict_proba(df_test)"
   ]
  },
  {
   "cell_type": "code",
   "execution_count": 28,
   "metadata": {},
   "outputs": [
    {
     "name": "stderr",
     "output_type": "stream",
     "text": [
      "/home/realna/anaconda3/lib/python3.7/site-packages/sklearn/linear_model/logistic.py:432: FutureWarning: Default solver will be changed to 'lbfgs' in 0.22. Specify a solver to silence this warning.\n",
      "  FutureWarning)\n",
      "/home/realna/anaconda3/lib/python3.7/site-packages/sklearn/svm/base.py:929: ConvergenceWarning: Liblinear failed to converge, increase the number of iterations.\n",
      "  \"the number of iterations.\", ConvergenceWarning)\n"
     ]
    },
    {
     "data": {
      "text/plain": [
       "LogisticRegression(C=100, class_weight=None, dual=False, fit_intercept=True,\n",
       "                   intercept_scaling=1, l1_ratio=None, max_iter=100,\n",
       "                   multi_class='warn', n_jobs=None, penalty='l2',\n",
       "                   random_state=0, solver='warn', tol=0.0001, verbose=0,\n",
       "                   warm_start=False)"
      ]
     },
     "execution_count": 28,
     "metadata": {},
     "output_type": "execute_result"
    }
   ],
   "source": [
    "from sklearn.linear_model import LogisticRegression\n",
    "lr = LogisticRegression(C=100, random_state=0)\n",
    "lr.fit(df_train, y_train)"
   ]
  },
  {
   "cell_type": "code",
   "execution_count": 29,
   "metadata": {},
   "outputs": [],
   "source": [
    "y_pred3 = lr.predict_proba(df_test)"
   ]
  },
  {
   "cell_type": "code",
   "execution_count": 30,
   "metadata": {
    "scrolled": true
   },
   "outputs": [
    {
     "data": {
      "text/plain": [
       "array([[0.49860421],\n",
       "       [0.62614206],\n",
       "       [0.38699412],\n",
       "       [0.21118005],\n",
       "       [0.59026502],\n",
       "       [0.66544719],\n",
       "       [0.69237396],\n",
       "       [0.64209092],\n",
       "       [0.33235271],\n",
       "       [0.54647695],\n",
       "       [0.5824108 ],\n",
       "       [0.26276588],\n",
       "       [0.31025146],\n",
       "       [0.74332745],\n",
       "       [0.4288229 ],\n",
       "       [0.80618628],\n",
       "       [0.28960062],\n",
       "       [0.54763952],\n",
       "       [0.35984306],\n",
       "       [0.27640501]])"
      ]
     },
     "execution_count": 30,
     "metadata": {},
     "output_type": "execute_result"
    }
   ],
   "source": [
    "y_pred[:,1:][:20]"
   ]
  },
  {
   "cell_type": "code",
   "execution_count": 31,
   "metadata": {
    "scrolled": true
   },
   "outputs": [
    {
     "data": {
      "text/plain": [
       "array([[0.49406703],\n",
       "       [0.63183124],\n",
       "       [0.4013614 ],\n",
       "       [0.21266371],\n",
       "       [0.61626678],\n",
       "       [0.69668313],\n",
       "       [0.67434269],\n",
       "       [0.66358439],\n",
       "       [0.36720591],\n",
       "       [0.56051078],\n",
       "       [0.58668   ],\n",
       "       [0.25340723],\n",
       "       [0.31648706],\n",
       "       [0.76304728],\n",
       "       [0.40731739],\n",
       "       [0.8237195 ],\n",
       "       [0.26612777],\n",
       "       [0.56791125],\n",
       "       [0.37890396],\n",
       "       [0.25698207]])"
      ]
     },
     "execution_count": 31,
     "metadata": {},
     "output_type": "execute_result"
    }
   ],
   "source": [
    "y_pred2[:,1:][:20]"
   ]
  },
  {
   "cell_type": "code",
   "execution_count": 32,
   "metadata": {},
   "outputs": [
    {
     "data": {
      "text/plain": [
       "array([[0.52710932],\n",
       "       [0.48245273],\n",
       "       [0.48175313],\n",
       "       [0.15390668],\n",
       "       [0.47131885],\n",
       "       [0.49670984],\n",
       "       [0.61124066],\n",
       "       [0.39972549],\n",
       "       [0.45223174],\n",
       "       [0.45672028],\n",
       "       [0.48839961],\n",
       "       [0.23866171],\n",
       "       [0.14299644],\n",
       "       [0.61055016],\n",
       "       [0.30153567],\n",
       "       [0.83248353],\n",
       "       [0.49503066],\n",
       "       [0.66008406],\n",
       "       [0.52709969],\n",
       "       [0.45777922]])"
      ]
     },
     "execution_count": 32,
     "metadata": {},
     "output_type": "execute_result"
    }
   ],
   "source": [
    "y_pred3[:,1:][:20]"
   ]
  },
  {
   "cell_type": "code",
   "execution_count": 33,
   "metadata": {},
   "outputs": [],
   "source": [
    "pred = 0.5*y_pred[:,1:] + 0.5*y_pred2[:,1:]"
   ]
  },
  {
   "cell_type": "code",
   "execution_count": 34,
   "metadata": {},
   "outputs": [],
   "source": [
    "pred = 0.8*pred + 0.2*y_pred3[:,1:]"
   ]
  },
  {
   "cell_type": "code",
   "execution_count": 35,
   "metadata": {},
   "outputs": [
    {
     "data": {
      "text/plain": [
       "array([[0.50249036],\n",
       "       [0.59967987],\n",
       "       [0.41169283],\n",
       "       ...,\n",
       "       [0.77831402],\n",
       "       [0.5493904 ],\n",
       "       [0.45274795]])"
      ]
     },
     "execution_count": 35,
     "metadata": {},
     "output_type": "execute_result"
    }
   ],
   "source": [
    "pred"
   ]
  },
  {
   "cell_type": "code",
   "execution_count": 37,
   "metadata": {},
   "outputs": [],
   "source": [
    "sample_submission=pd.read_csv('sample_submission.csv',encoding=\"utf-8\") "
   ]
  },
  {
   "cell_type": "code",
   "execution_count": 38,
   "metadata": {},
   "outputs": [],
   "source": [
    "sample_submission[\"winner\"] = pred\n",
    "sample_submission.to_csv(\"sel_rc_event_2lr_8lgbm_submission35.csv\",encoding=\"utf-8\",index=False)"
   ]
  },
  {
   "cell_type": "code",
   "execution_count": 39,
   "metadata": {},
   "outputs": [],
   "source": [
    "df_train.to_csv(\"Final_df_train.csv\",encoding=\"utf-8\",index=False)\n",
    "df_test.to_csv(\"Final_df_test.csv\",encoding=\"utf-8\",index=False)"
   ]
  },
  {
   "cell_type": "code",
   "execution_count": null,
   "metadata": {},
   "outputs": [],
   "source": []
  }
 ],
 "metadata": {
  "kernelspec": {
   "display_name": "Python 3",
   "language": "python",
   "name": "python3"
  },
  "language_info": {
   "codemirror_mode": {
    "name": "ipython",
    "version": 3
   },
   "file_extension": ".py",
   "mimetype": "text/x-python",
   "name": "python",
   "nbconvert_exporter": "python",
   "pygments_lexer": "ipython3",
   "version": "3.7.6"
  }
 },
 "nbformat": 4,
 "nbformat_minor": 4
}
